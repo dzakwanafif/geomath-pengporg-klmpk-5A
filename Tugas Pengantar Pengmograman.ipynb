{
 "cells": [
  {
   "cell_type": "markdown",
   "metadata": {},
   "source": [
    "##### Muh. Dzakwan Afif\n",
    "##### H061241032\n",
    "___"
   ]
  },
  {
   "cell_type": "markdown",
   "metadata": {},
   "source": [
    "##### TUGAS PENGANTAR PEMOGRAMAN\n"
   ]
  },
  {
   "cell_type": "markdown",
   "metadata": {},
   "source": [
    "**Soal 1**: Seorang pelanggan membeli buah di pasar. Jika 3 angka terakhir NIM Anda genap, dia mendapatkan diskon 10%. Jika ganjil, diskon 5%. Buat program untuk menghitung total harga."
   ]
  },
  {
   "cell_type": "code",
   "execution_count": null,
   "metadata": {},
   "outputs": [
    {
     "name": "stdout",
     "output_type": "stream",
     "text": [
      "Total harga setelah diskon: Rp 45000.0\n"
     ]
    }
   ],
   "source": [
    "harga = 50000\n",
    "nim_terakhir = 32\n",
    "if nim_terakhir % 2 == 0:  \n",
    "    diskon = 0.10  \n",
    "else:  \n",
    "    diskon = 0.05  \n",
    "total_harga = harga - (harga * diskon)\n",
    "print(f\"Total harga setelah diskon: Rp {total_harga}\")"
   ]
  },
  {
   "cell_type": "code",
   "execution_count": null,
   "metadata": {},
   "outputs": [
    {
     "name": "stdout",
     "output_type": "stream",
     "text": [
      "Siswa LULUS\n"
     ]
    }
   ],
   "source": [
    "\n",
    "nim_terakhir = 32 \n",
    "\n",
    "nilai = 85\n",
    "if nim_terakhir > 500:\n",
    "    syarat_kelulusan = 80\n",
    "else:\n",
    "    syarat_kelulusan = 75\n",
    "if nilai >= syarat_kelulusan:\n",
    "    print(\"Siswa LULUS\")\n",
    "else:\n",
    "    print(\"Siswa TIDAK LULUS\")"
   ]
  },
  {
   "cell_type": "code",
   "execution_count": null,
   "metadata": {},
   "outputs": [
    {
     "name": "stdout",
     "output_type": "stream",
     "text": [
      "Pelanggan mendapatkan GRATIS ONGKIR\n"
     ]
    }
   ],
   "source": [
    "nim_terakhir = 32 \n",
    "total_belanja = 1000000\n",
    "batas_ongkir = 200000 + nim_terakhir  \n",
    "if total_belanja > batas_ongkir:\n",
    "    print(\"Pelanggan mendapatkan GRATIS ONGKIR\")\n",
    "else:\n",
    "    print(\"Pelanggan TIDAK mendapatkan GRATIS ONGKIR\")"
   ]
  },
  {
   "cell_type": "code",
   "execution_count": null,
   "metadata": {},
   "outputs": [
    {
     "name": "stdout",
     "output_type": "stream",
     "text": [
      "Total gaji karyawan: Rp 550025.0\n"
     ]
    }
   ],
   "source": [
    "nim_terakhir = 25 \n",
    "jam_kerja = 45\n",
    "gaji_pokok = 500000\n",
    "if jam_kerja > 40:\n",
    "    bonus = (0.10 * gaji_pokok) + nim_terakhir \n",
    "else:\n",
    "    bonus = 0  \n",
    "total_gaji = gaji_pokok + bonus\n",
    "print(f\"Total gaji karyawan: Rp {total_gaji}\")\n"
   ]
  },
  {
   "cell_type": "code",
   "execution_count": null,
   "metadata": {},
   "outputs": [
    {
     "name": "stdout",
     "output_type": "stream",
     "text": [
      "Total biaya yang harus dibayar: Rp 40000.00\n"
     ]
    }
   ],
   "source": [
    "nim_terakhir = 25  \n",
    "total_pesanan = 40000\n",
    "batas_pajak = 50000 - nim_terakhir  \n",
    "if total_pesanan > batas_pajak:\n",
    "    pajak = 0.05 * total_pesanan\n",
    "    total_biaya = total_pesanan + pajak\n",
    "else:\n",
    "    total_biaya = total_pesanan\n",
    "print(f\"Total biaya yang harus dibayar: Rp {total_biaya:.2f}\")\n"
   ]
  },
  {
   "cell_type": "code",
   "execution_count": null,
   "metadata": {},
   "outputs": [
    {
     "name": "stdout",
     "output_type": "stream",
     "text": [
      "Pelari TIDAK berhasil memenuhi target latihan.\n"
     ]
    }
   ],
   "source": [
    "nim_terakhir = 25  \n",
    "jarak_lari = 25\n",
    "if jarak_lari > nim_terakhir:\n",
    "    print(\"Pelari berhasil memenuhi target latihan!\")\n",
    "else:\n",
    "    print(\"Pelari TIDAK berhasil memenuhi target latihan.\")\n"
   ]
  },
  {
   "cell_type": "code",
   "execution_count": null,
   "metadata": {},
   "outputs": [
    {
     "name": "stdout",
     "output_type": "stream",
     "text": [
      "Anak mendapatkan diskon 50%.\n",
      "Harga tiket yang harus dibayar: Rp 25000.00\n"
     ]
    }
   ],
   "source": [
    "nim_terakhir = 25  \n",
    "harga_tiket = 50000  \n",
    "if nim_terakhir % 2 == 0:\n",
    "    harga_tiket = 0\n",
    "    print(\"Anak mendapatkan tiket GRATIS!\")\n",
    "else:\n",
    "    harga_tiket = harga_tiket * 0.5\n",
    "    print(\"Anak mendapatkan diskon 50%.\")\n",
    "print(f\"Harga tiket yang harus dibayar: Rp {harga_tiket:.2f}\")\n"
   ]
  },
  {
   "cell_type": "code",
   "execution_count": null,
   "metadata": {},
   "outputs": [
    {
     "name": "stdout",
     "output_type": "stream",
     "text": [
      "Anda mendapatkan diskon 10%.\n",
      "Total harga yang harus dibayar setelah diskon: Rp 810000.00\n"
     ]
    }
   ],
   "source": [
    "nim_terakhir = 25  \n",
    "harga_per_buku = 60000 \n",
    "jumlah_buku = 15\n",
    "total_harga = jumlah_buku * harga_per_buku\n",
    "if jumlah_buku > 5 and nim_terakhir > 300:\n",
    "    diskon = 0.20 * total_harga\n",
    "    print(\"Anda mendapatkan diskon 20%.\")\n",
    "else:\n",
    "    diskon = 0.10 * total_harga\n",
    "    print(\"Anda mendapatkan diskon 10%.\")\n",
    "total_setelah_diskon = total_harga - diskon\n",
    "print(f\"Total harga yang harus dibayar setelah diskon: Rp {total_setelah_diskon:.2f}\")\n"
   ]
  },
  {
   "cell_type": "code",
   "execution_count": null,
   "metadata": {},
   "outputs": [
    {
     "name": "stdout",
     "output_type": "stream",
     "text": [
      "Anda mendapatkan diskon 10%.\n",
      "Total harga yang harus dibayar setelah diskon: Rp 270000.00\n"
     ]
    }
   ],
   "source": [
    "nim_terakhir = 25 \n",
    "harga_per_buku = 60000 \n",
    "jumlah_buku = 5\n",
    "total_harga = jumlah_buku * harga_per_buku\n",
    "if jumlah_buku > 5 and nim_terakhir > 300:\n",
    "    diskon = 0.20 * total_harga\n",
    "    print(\"Anda mendapatkan diskon 20%.\")\n",
    "else:\n",
    "    diskon = 0.10 * total_harga\n",
    "    print(\"Anda mendapatkan diskon 10%.\")\n",
    "total_setelah_diskon = total_harga - diskon\n",
    "print(f\"Total harga yang harus dibayar setelah diskon: Rp {total_setelah_diskon:.2f}\")\n"
   ]
  },
  {
   "cell_type": "code",
   "execution_count": null,
   "metadata": {},
   "outputs": [
    {
     "name": "stdout",
     "output_type": "stream",
     "text": [
      "Bukan Kabisat\n"
     ]
    }
   ],
   "source": [
    "nim_terakhir = 25  \n",
    "tahun = 2025\n",
    "if nim_terakhir % 2 == 0:\n",
    "    print(\"Kabisat\")\n",
    "else:\n",
    "    print(\"Bukan Kabisat\")\n"
   ]
  },
  {
   "cell_type": "code",
   "execution_count": null,
   "metadata": {},
   "outputs": [
    {
     "name": "stdout",
     "output_type": "stream",
     "text": [
      "Daftar Belanja ke-1:\n",
      "1. Apel - Rp 10.000\n",
      "2. Pisang - Rp 15.000\n",
      "3. Jeruk - Rp 10.000\n",
      "4. Mangga - Rp 25.000\n",
      "5. Anggur - Rp 30.000\n",
      "\n",
      "Daftar Belanja ke-2:\n",
      "1. Apel - Rp 10.000\n",
      "2. Pisang - Rp 15.000\n",
      "3. Jeruk - Rp 10.000\n",
      "4. Mangga - Rp 25.000\n",
      "5. Anggur - Rp 30.000\n",
      "\n",
      "Daftar Belanja ke-3:\n",
      "1. Apel - Rp 10.000\n",
      "2. Pisang - Rp 15.000\n",
      "3. Jeruk - Rp 10.000\n",
      "4. Mangga - Rp 25.000\n",
      "5. Anggur - Rp 30.000\n",
      "\n",
      "Daftar Belanja ke-4:\n",
      "1. Apel - Rp 10.000\n",
      "2. Pisang - Rp 15.000\n",
      "3. Jeruk - Rp 10.000\n",
      "4. Mangga - Rp 25.000\n",
      "5. Anggur - Rp 30.000\n",
      "\n",
      "Daftar Belanja ke-5:\n",
      "1. Apel - Rp 10.000\n",
      "2. Pisang - Rp 15.000\n",
      "3. Jeruk - Rp 10.000\n",
      "4. Mangga - Rp 25.000\n",
      "5. Anggur - Rp 30.000\n",
      "\n"
     ]
    }
   ],
   "source": [
    "nim_terakhir = 25  \n",
    "daftar_belanja = [\n",
    "    \"1. Apel - Rp 10.000\",\n",
    "    \"2. Pisang - Rp 15.000\",\n",
    "    \"3. Jeruk - Rp 10.000\",\n",
    "    \"4. Mangga - Rp 25.000\",\n",
    "    \"5. Anggur - Rp 30.000\"\n",
    "]\n",
    "jumlah_cetak = nim_terakhir % 10 \n",
    "for i in range(jumlah_cetak):\n",
    "    print(f\"Daftar Belanja ke-{i + 1}:\")\n",
    "    for item in daftar_belanja:\n",
    "        print(item)\n",
    "    print()  \n"
   ]
  },
  {
   "cell_type": "code",
   "execution_count": null,
   "metadata": {},
   "outputs": [
    {
     "name": "stdout",
     "output_type": "stream",
     "text": [
      "5\n",
      "10\n",
      "15\n",
      "20\n",
      "25\n",
      "30\n",
      "35\n",
      "40\n",
      "45\n",
      "50\n",
      "55\n",
      "60\n",
      "65\n",
      "70\n",
      "75\n",
      "80\n",
      "85\n",
      "90\n",
      "95\n",
      "100\n"
     ]
    }
   ],
   "source": [
    "nim_terakhir = 25  \n",
    "kelipatan = nim_terakhir % 5\n",
    "if kelipatan == 0:\n",
    "    kelipatan = 5 \n",
    "for angka in range(1, 101):\n",
    "    if angka % kelipatan == 0:\n",
    "        print(angka)\n"
   ]
  },
  {
   "cell_type": "code",
   "execution_count": null,
   "metadata": {},
   "outputs": [
    {
     "name": "stdout",
     "output_type": "stream",
     "text": [
      "Tabel Perkalian untuk 7\n",
      "7 x 1 = 7\n",
      "7 x 2 = 14\n",
      "7 x 3 = 21\n",
      "7 x 4 = 28\n",
      "7 x 5 = 35\n",
      "7 x 6 = 42\n",
      "7 x 7 = 49\n",
      "7 x 8 = 56\n",
      "7 x 9 = 63\n",
      "7 x 10 = 70\n"
     ]
    }
   ],
   "source": [
    "nim_terakhir = 25\n",
    "angka = nim_terakhir % 9\n",
    "print(f\"Tabel Perkalian untuk {angka}\")\n",
    "for i in range(1, 11):\n",
    "    print(f\"{angka} x {i} = {angka * i}\")\n"
   ]
  },
  {
   "cell_type": "code",
   "execution_count": null,
   "metadata": {},
   "outputs": [
    {
     "name": "stdout",
     "output_type": "stream",
     "text": [
      "*\n",
      "**\n",
      "***\n",
      "****\n"
     ]
    }
   ],
   "source": [
    "\n",
    "nim_terakhir = 25\n",
    "tinggi = nim_terakhir % 7\n",
    "for i in range(1, tinggi + 1):\n",
    "    print('*' * i)\n"
   ]
  },
  {
   "cell_type": "code",
   "execution_count": null,
   "metadata": {},
   "outputs": [
    {
     "name": "stdout",
     "output_type": "stream",
     "text": [
      "Bilangan prima dari 1 sampai 25:\n",
      "2\n",
      "3\n",
      "5\n",
      "7\n",
      "11\n",
      "13\n",
      "17\n",
      "19\n",
      "23\n"
     ]
    }
   ],
   "source": [
    "nim_terakhir = 25\n",
    "batas_atas = nim_terakhir\n",
    "def is_prime(n):\n",
    "    if n <= 1:\n",
    "        return False\n",
    "    for i in range(2, int(n**0.5) + 1):\n",
    "        if n % i == 0:\n",
    "            return False\n",
    "    return True\n",
    "print(f\"Bilangan prima dari 1 sampai {batas_atas}:\")\n",
    "for num in range(1, batas_atas + 1):\n",
    "    if is_prime(num):\n",
    "        print(num)\n"
   ]
  },
  {
   "cell_type": "code",
   "execution_count": null,
   "metadata": {},
   "outputs": [
    {
     "name": "stdout",
     "output_type": "stream",
     "text": [
      "Deret Fibonacci sebanyak 5 bilangan:\n",
      "0 1 1 2 3 "
     ]
    }
   ],
   "source": [
    "nim_terakhir = 25 \n",
    "jumlah_bilangan = nim_terakhir % 10  \n",
    "def fibonacci(n):\n",
    "    a, b = 0, 1\n",
    "    for _ in range(n):\n",
    "        print(a, end=\" \")\n",
    "        a, b = b, a + b\n",
    "print(f\"Deret Fibonacci sebanyak {jumlah_bilangan} bilangan:\")\n",
    "fibonacci(jumlah_bilangan)\n"
   ]
  },
  {
   "cell_type": "code",
   "execution_count": null,
   "metadata": {},
   "outputs": [
    {
     "name": "stdout",
     "output_type": "stream",
     "text": [
      "Bilangan kelipatan 1 dari 1 sampai 100:\n",
      "1 2 3 4 5 6 7 8 9 10 11 12 13 14 15 16 17 18 19 20 21 22 23 24 25 26 27 28 29 30 31 32 33 34 35 36 37 38 39 40 41 42 43 44 45 46 47 48 49 50 51 52 53 54 55 56 57 58 59 60 61 62 63 64 65 66 67 68 69 70 71 72 73 74 75 76 77 78 79 80 81 82 83 84 85 86 87 88 89 90 91 92 93 94 95 96 97 98 99 100 "
     ]
    }
   ],
   "source": [
    "nim_terakhir = 25\n",
    "kelipatan = nim_terakhir % 6\n",
    "print(f\"Bilangan kelipatan {kelipatan} dari 1 sampai 100:\")\n",
    "for i in range(kelipatan, 101, kelipatan):\n",
    "    print(i, end=\" \")\n"
   ]
  },
  {
   "cell_type": "code",
   "execution_count": null,
   "metadata": {},
   "outputs": [
    {
     "name": "stdout",
     "output_type": "stream",
     "text": [
      "Bilangan ganjil dari 1 sampai 25:\n",
      "1 3 5 7 9 11 13 15 17 19 21 23 25 "
     ]
    }
   ],
   "source": [
    "nim_terakhir = 25  \n",
    "batas_atas = nim_terakhir \n",
    "print(f\"Bilangan ganjil dari 1 sampai {batas_atas}:\")\n",
    "for i in range(1, batas_atas + 1, 2): \n",
    "    print(i, end=\" \")\n"
   ]
  },
  {
   "cell_type": "code",
   "execution_count": null,
   "metadata": {},
   "outputs": [
    {
     "name": "stdout",
     "output_type": "stream",
     "text": [
      "Faktorial dari 1 adalah 1\n"
     ]
    }
   ],
   "source": [
    "nim_terakhir = 25 \n",
    "angka = nim_terakhir % 8 \n",
    "\n",
    "\n",
    "def faktorial(n):\n",
    "    if n == 0 or n == 1:\n",
    "        return 1\n",
    "    result = 1\n",
    "    for i in range(2, n + 1):\n",
    "        result *= i\n",
    "    return result\n",
    "print(f\"Faktorial dari {angka} adalah {faktorial(angka)}\")\n"
   ]
  },
  {
   "cell_type": "code",
   "execution_count": null,
   "metadata": {},
   "outputs": [],
   "source": [
    "nim_terakhir = 25  \n",
    "jumlah_pengulangan = nim_terakhir % 5  \n",
    "for _ in range(jumlah_pengulangan):\n",
    "    print(\"Terima Kasih\")\n"
   ]
  },
  {
   "cell_type": "code",
   "execution_count": null,
   "metadata": {},
   "outputs": [
    {
     "name": "stdout",
     "output_type": "stream",
     "text": [
      "kata kata hari ini : \"Kukira Ramadhan harus banyak ngaji, eh malah disibukin ngoding\"\n"
     ]
    }
   ],
   "source": [
    "kata = \"Kukira Ramadhan harus banyak ngaji, eh malah disibukin ngoding\"\n",
    "print(f'kata kata hari ini : \"{kata}\"')"
   ]
  },
  {
   "cell_type": "code",
   "execution_count": 2,
   "metadata": {},
   "outputs": [
    {
     "ename": "ValueError",
     "evalue": "could not convert string to float: ''",
     "output_type": "error",
     "traceback": [
      "\u001b[1;31m---------------------------------------------------------------------------\u001b[0m",
      "\u001b[1;31mValueError\u001b[0m                                Traceback (most recent call last)",
      "Cell \u001b[1;32mIn[2], line 7\u001b[0m\n\u001b[0;32m      4\u001b[0m     \u001b[38;5;28;01mreturn\u001b[39;00m harga_setelah_diskon\n\u001b[0;32m      6\u001b[0m \u001b[38;5;66;03m# Input harga total sebelum diskon\u001b[39;00m\n\u001b[1;32m----> 7\u001b[0m harga_awal \u001b[38;5;241m=\u001b[39m \u001b[38;5;28;43mfloat\u001b[39;49m\u001b[43m(\u001b[49m\u001b[38;5;28;43minput\u001b[39;49m\u001b[43m(\u001b[49m\u001b[38;5;124;43m\"\u001b[39;49m\u001b[38;5;124;43mMasukkan total harga buah: Rp 100000 \u001b[39;49m\u001b[38;5;124;43m\"\u001b[39;49m\u001b[43m)\u001b[49m\u001b[43m)\u001b[49m\n\u001b[0;32m      9\u001b[0m \u001b[38;5;66;03m# Hitung total harga setelah diskon\u001b[39;00m\n\u001b[0;32m     10\u001b[0m total_harga \u001b[38;5;241m=\u001b[39m hitung_total_harga(harga_awal)\n",
      "\u001b[1;31mValueError\u001b[0m: could not convert string to float: ''"
     ]
    }
   ],
   "source": [
    "def hitung_total_harga(harga_awal):\n",
    "    diskon = 0.10  # Diskon 10%\n",
    "    harga_setelah_diskon = harga_awal - (harga_awal * diskon)\n",
    "    return harga_setelah_diskon\n",
    "\n",
    "# Input harga total sebelum diskon\n",
    "harga_awal = float(input(\"Masukkan total harga buah: Rp 100000 \"))\n",
    "\n",
    "# Hitung total harga setelah diskon\n",
    "total_harga = hitung_total_harga(harga_awal)\n",
    "\n",
    "# Output hasil\n",
    "print(f\"Total harga setelah diskon: Rp {total_harga:.2f}\")"
   ]
  },
  {
   "cell_type": "code",
   "execution_count": 25,
   "metadata": {},
   "outputs": [
    {
     "name": "stdout",
     "output_type": "stream",
     "text": [
      "No 5 (a)\n",
      "Soal Integral:\n"
     ]
    },
    {
     "data": {
      "image/png": "[encoded data removed]",
      "text/latex": [
       "$\\displaystyle 2 \\int \\sqrt{x^{3}}\\, dx$"
      ],
      "text/plain": [
       "  ⌠           \n",
       "  ⎮    ____   \n",
       "  ⎮   ╱  3    \n",
       "2⋅⎮ ╲╱  x   dx\n",
       "  ⌡           "
      ]
     },
     "metadata": {},
     "output_type": "display_data"
    },
    {
     "name": "stdout",
     "output_type": "stream",
     "text": [
      "\n",
      "Langkah 1: \n"
     ]
    },
    {
     "data": {
      "image/png": "[encoded data removed]",
      "text/latex": [
       "$\\displaystyle 2 \\int x^{\\frac{3}{2}}\\, dx$"
      ],
      "text/plain": [
       "  ⌠        \n",
       "  ⎮  3/2   \n",
       "2⋅⎮ x    dx\n",
       "  ⌡        "
      ]
     },
     "metadata": {},
     "output_type": "display_data"
    },
    {
     "name": "stdout",
     "output_type": "stream",
     "text": [
      "\n",
      "Langkah 2:\n"
     ]
    },
    {
     "data": {
      "image/png": "[encoded data removed]",
      "text/latex": [
       "$\\displaystyle \\frac{4 x^{\\frac{5}{2}}}{5}$"
      ],
      "text/plain": [
       "   5/2\n",
       "4⋅x   \n",
       "──────\n",
       "  5   "
      ]
     },
     "metadata": {},
     "output_type": "display_data"
    },
    {
     "name": "stdout",
     "output_type": "stream",
     "text": [
      "\n",
      "Langkah 3:\n"
     ]
    },
    {
     "data": {
      "image/png": "[encoded data removed]",
      "text/latex": [
       "$\\displaystyle \\frac{4 x^{\\frac{5}{2}}}{5}$"
      ],
      "text/plain": [
       "   5/2\n",
       "4⋅x   \n",
       "──────\n",
       "  5   "
      ]
     },
     "metadata": {},
     "output_type": "display_data"
    },
    {
     "name": "stdout",
     "output_type": "stream",
     "text": [
      "\n",
      "Langkah 4:\n"
     ]
    },
    {
     "data": {
      "image/png": "[encoded data removed]",
      "text/latex": [
       "$\\displaystyle \\frac{4 x^{\\frac{5}{2}}}{5}$"
      ],
      "text/plain": [
       "   5/2\n",
       "4⋅x   \n",
       "──────\n",
       "  5   "
      ]
     },
     "metadata": {},
     "output_type": "display_data"
    },
    {
     "name": "stdout",
     "output_type": "stream",
     "text": [
      "\n",
      "Langkah 5:\n"
     ]
    },
    {
     "data": {
      "image/png": "[encoded data removed]",
      "text/latex": [
       "$\\displaystyle C + \\frac{4 \\sqrt{x^{5}}}{5}$"
      ],
      "text/plain": [
       "         ____\n",
       "        ╱  5 \n",
       "    4⋅╲╱  x  \n",
       "C + ─────────\n",
       "        5    "
      ]
     },
     "metadata": {},
     "output_type": "display_data"
    }
   ],
   "source": [
    "from sympy import symbols, Integral, Rational, sqrt, init_printing\n",
    "init_printing(use_latex=True)\n",
    "print(\"No 5 (a)\")\n",
    "x, C = symbols('x C')\n",
    "\n",
    "expr = 2 * Integral(sqrt(x**3), x)\n",
    "\n",
    "print(\"Soal Integral:\")\n",
    "display(expr)\n",
    "\n",
    "step1 = 2 * Integral(x**Rational(3,2), x)\n",
    "print(\"\\nLangkah 1: \")\n",
    "display(step1)\n",
    "\n",
    "step2 = 2 * (1 / Rational(5,2)) * x**Rational(5,2)\n",
    "print(\"\\nLangkah 2:\")\n",
    "display(step2)\n",
    "\n",
    "step3 = 2 * Rational(2,5) * x**Rational(5,2)\n",
    "print(\"\\nLangkah 3:\")\n",
    "display(step3)\n",
    "\n",
    "step4 = Rational(4,5) * x**Rational(5,2)\n",
    "print(\"\\nLangkah 4:\")\n",
    "display(step4)\n",
    "\n",
    "final_result = Rational(4,5) * sqrt(x**5) + C\n",
    "print(\"\\nLangkah 5:\")\n",
    "display(final_result)"
   ]
  },
  {
   "cell_type": "code",
   "execution_count": 26,
   "metadata": {},
   "outputs": [
    {
     "name": "stdout",
     "output_type": "stream",
     "text": [
      "No.5 (b)\n",
      "Soal Integral:\n"
     ]
    },
    {
     "data": {
      "image/png": "[encoded data removed]",
      "text/latex": [
       "$\\displaystyle \\frac{\\int x^{\\frac{5}{4}}\\, dx}{4}$"
      ],
      "text/plain": [
       "⌠        \n",
       "⎮  5/4   \n",
       "⎮ x    dx\n",
       "⌡        \n",
       "─────────\n",
       "    4    "
      ]
     },
     "metadata": {},
     "output_type": "display_data"
    },
    {
     "name": "stdout",
     "output_type": "stream",
     "text": [
      "\n",
      "Langkah 1:\n"
     ]
    },
    {
     "data": {
      "image/png": "[encoded data removed]",
      "text/latex": [
       "$\\displaystyle \\frac{\\int x^{\\frac{5}{4}}\\, dx}{4}$"
      ],
      "text/plain": [
       "⌠        \n",
       "⎮  5/4   \n",
       "⎮ x    dx\n",
       "⌡        \n",
       "─────────\n",
       "    4    "
      ]
     },
     "metadata": {},
     "output_type": "display_data"
    },
    {
     "name": "stdout",
     "output_type": "stream",
     "text": [
      "\n",
      "Langkah 2:\n"
     ]
    },
    {
     "data": {
      "image/png": "[encoded data removed]",
      "text/latex": [
       "$\\displaystyle \\frac{x^{\\frac{9}{4}}}{9}$"
      ],
      "text/plain": [
       " 9/4\n",
       "x   \n",
       "────\n",
       " 9  "
      ]
     },
     "metadata": {},
     "output_type": "display_data"
    },
    {
     "name": "stdout",
     "output_type": "stream",
     "text": [
      "\n",
      "Langkah 3:\n"
     ]
    },
    {
     "data": {
      "image/png": "[encoded data removed]",
      "text/latex": [
       "$\\displaystyle \\frac{x^{\\frac{9}{4}}}{9}$"
      ],
      "text/plain": [
       " 9/4\n",
       "x   \n",
       "────\n",
       " 9  "
      ]
     },
     "metadata": {},
     "output_type": "display_data"
    },
    {
     "name": "stdout",
     "output_type": "stream",
     "text": [
      "\n",
      "Langkah 4:\n"
     ]
    },
    {
     "data": {
      "image/png": "[encoded data removed]",
      "text/latex": [
       "$\\displaystyle \\frac{x^{\\frac{9}{4}}}{9}$"
      ],
      "text/plain": [
       " 9/4\n",
       "x   \n",
       "────\n",
       " 9  "
      ]
     },
     "metadata": {},
     "output_type": "display_data"
    },
    {
     "name": "stdout",
     "output_type": "stream",
     "text": [
      "\n",
      "Langkah 5:\n"
     ]
    },
    {
     "data": {
      "image/png": "[encoded data removed]",
      "text/latex": [
       "$\\displaystyle C + \\frac{\\sqrt[4]{x^{9}}}{9}$"
      ],
      "text/plain": [
       "       ____\n",
       "    4 ╱  9 \n",
       "    ╲╱  x  \n",
       "C + ───────\n",
       "       9   "
      ]
     },
     "metadata": {},
     "output_type": "display_data"
    }
   ],
   "source": [
    "from sympy import symbols, Integral, Rational, root, init_printing, simplify\n",
    "print(\"No.5 (b)\")\n",
    "init_printing(use_latex=True)\n",
    "x, C = symbols('x C')\n",
    "\n",
    "expr = Rational(1,4) * Integral(x**Rational(5,4), x)\n",
    "\n",
    "print(\"Soal Integral:\")\n",
    "display(expr)\n",
    "\n",
    "step1 = Rational(1,4) * Integral(x**Rational(5,4), x)\n",
    "print(\"\\nLangkah 1:\")\n",
    "display(step1)\n",
    "\n",
    "step2 = Rational(1,4) * (Rational(1, Rational(9,4)) * x**Rational(9,4))\n",
    "print(\"\\nLangkah 2:\")\n",
    "display(step2)\n",
    "\n",
    "step3 = Rational(1,4) * Rational(4,9) * x**Rational(9,4)\n",
    "print(\"\\nLangkah 3:\")\n",
    "display(step3)\n",
    "\n",
    "step4 = Rational(1,9) * x**Rational(9,4)\n",
    "print(\"\\nLangkah 4:\")\n",
    "display(step4)\n",
    "\n",
    "final_result = Rational(1,9) * root(x**9, 4) + C\n",
    "print(\"\\nLangkah 5:\")\n",
    "display(final_result)"
   ]
  },
  {
   "cell_type": "code",
   "execution_count": 28,
   "metadata": {},
   "outputs": [
    {
     "name": "stdout",
     "output_type": "stream",
     "text": [
      "No.7 (a)\n",
      "Soal Integral:\n"
     ]
    },
    {
     "data": {
      "image/png": "[encoded data removed]",
      "text/latex": [
       "$\\displaystyle \\int 3 \\cos{\\left(2 x \\right)}\\, dx$"
      ],
      "text/plain": [
       "⌠              \n",
       "⎮ 3⋅cos(2⋅x) dx\n",
       "⌡              "
      ]
     },
     "metadata": {},
     "output_type": "display_data"
    },
    {
     "name": "stdout",
     "output_type": "stream",
     "text": [
      "\n",
      "Langkah 1:\n"
     ]
    },
    {
     "data": {
      "image/png": "[encoded data removed]",
      "text/latex": [
       "$\\displaystyle C + \\frac{3 \\sin{\\left(2 x \\right)}}{2}$"
      ],
      "text/plain": [
       "    3⋅sin(2⋅x)\n",
       "C + ──────────\n",
       "        2     "
      ]
     },
     "metadata": {},
     "output_type": "display_data"
    },
    {
     "name": "stdout",
     "output_type": "stream",
     "text": [
      "\n",
      "Langkah 2:\n"
     ]
    },
    {
     "data": {
      "image/png": "[encoded data removed]",
      "text/latex": [
       "$\\displaystyle C + \\frac{3 \\sin{\\left(2 x \\right)}}{2}$"
      ],
      "text/plain": [
       "    3⋅sin(2⋅x)\n",
       "C + ──────────\n",
       "        2     "
      ]
     },
     "metadata": {},
     "output_type": "display_data"
    }
   ],
   "source": [
    "from sympy import symbols, Integral, sin, cos, Rational, init_printing\n",
    "print(\"No.7 (a)\")\n",
    "init_printing(use_latex=True)\n",
    "\n",
    "x, C = symbols('x C')\n",
    "a = 2  \n",
    "\n",
    "expr = Integral(3 * cos(a*x), x)\n",
    "\n",
    "print(\"Soal Integral:\")\n",
    "display(expr)\n",
    "\n",
    "step1 = 3 * (Rational(1,a) * sin(a*x)) + C\n",
    "print(\"\\nLangkah 1:\")\n",
    "display(step1)\n",
    "\n",
    "final_result = Rational(3,2) * sin(2*x) + C\n",
    "print(\"\\nLangkah 2:\")\n",
    "display(final_result)"
   ]
  },
  {
   "cell_type": "code",
   "execution_count": 35,
   "metadata": {},
   "outputs": [
    {
     "name": "stdout",
     "output_type": "stream",
     "text": [
      "No.7 (b)\n",
      "Soal Integral:\n"
     ]
    },
    {
     "data": {
      "image/png": "[encoded data removed]",
      "text/latex": [
       "$\\displaystyle \\int 7 \\sin{\\left(3 θ \\right)}\\, dθ$"
      ],
      "text/plain": [
       "⌠              \n",
       "⎮ 7⋅sin(3⋅θ) dθ\n",
       "⌡              "
      ]
     },
     "metadata": {},
     "output_type": "display_data"
    },
    {
     "name": "stdout",
     "output_type": "stream",
     "text": [
      "\n",
      "Langkah 1: Terapkan aturan integral ∫ sin(ax) dx = - (1/a) cos(ax) + C\n"
     ]
    },
    {
     "data": {
      "image/png": "[encoded data removed]",
      "text/latex": [
       "$\\displaystyle C - \\frac{7 \\cos{\\left(3 θ \\right)}}{3}$"
      ],
      "text/plain": [
       "    7⋅cos(3⋅θ)\n",
       "C - ──────────\n",
       "        3     "
      ]
     },
     "metadata": {},
     "output_type": "display_data"
    },
    {
     "name": "stdout",
     "output_type": "stream",
     "text": [
      "\n",
      "Langkah 2: Hitung konstanta agar sesuai dengan gambar\n"
     ]
    },
    {
     "data": {
      "image/png": "[encoded data removed]",
      "text/latex": [
       "$\\displaystyle C - \\frac{7 \\cos{\\left(3 θ \\right)}}{3}$"
      ],
      "text/plain": [
       "    7⋅cos(3⋅θ)\n",
       "C - ──────────\n",
       "        3     "
      ]
     },
     "metadata": {},
     "output_type": "display_data"
    }
   ],
   "source": [
    "from sympy import symbols, Integral, sin, cos, Rational, init_printing\n",
    "print(\"No.7 (b)\")\n",
    "\n",
    "init_printing(use_latex=True)\n",
    "\n",
    "θ, C = symbols('θ C')\n",
    "a = 3  \n",
    "\n",
    "expr = Integral(7 * sin(a*θ), θ)\n",
    "\n",
    "print(\"Soal Integral:\")\n",
    "display(expr)\n",
    "\n",
    "step1 = 7 * (-Rational(1,a) * cos(a*θ)) + C\n",
    "print(\"\\nLangkah 1: Terapkan aturan integral ∫ sin(ax) dx = - (1/a) cos(ax) + C\")\n",
    "display(step1)\n",
    "\n",
    "final_result = -Rational(7,3) * cos(3*θ) + C\n",
    "print(\"\\nLangkah 2: Hitung konstanta agar sesuai dengan gambar\")\n",
    "display(final_result)"
   ]
  },
  {
   "cell_type": "code",
   "execution_count": 4,
   "metadata": {},
   "outputs": [
    {
     "name": "stdout",
     "output_type": "stream",
     "text": [
      "Soal Integral:\n"
     ]
    },
    {
     "data": {
      "image/png": "[encoded data removed]",
      "text/latex": [
       "$\\displaystyle \\int\\limits_{0}^{\\frac{\\pi}{4}} x \\sin{\\left(2 x \\right)}\\, dx$"
      ],
      "text/plain": [
       "π              \n",
       "─              \n",
       "4              \n",
       "⌠              \n",
       "⎮ x⋅sin(2⋅x) dx\n",
       "⌡              \n",
       "0              "
      ]
     },
     "metadata": {},
     "output_type": "display_data"
    },
    {
     "name": "stdout",
     "output_type": "stream",
     "text": [
      "\n",
      "Langkah 2: Substitusi batas pada ekspresi pertama\n"
     ]
    },
    {
     "data": {
      "image/png": "[encoded data removed]",
      "text/latex": [
       "$\\displaystyle 0$"
      ],
      "text/plain": [
       "0"
      ]
     },
     "metadata": {},
     "output_type": "display_data"
    },
    {
     "name": "stdout",
     "output_type": "stream",
     "text": [
      "\n",
      "Langkah 3: Evaluasi integral kedua\n"
     ]
    },
    {
     "data": {
      "image/png": "[encoded data removed]",
      "text/latex": [
       "$\\displaystyle - \\frac{1}{4}$"
      ],
      "text/plain": [
       "-1/4"
      ]
     },
     "metadata": {},
     "output_type": "display_data"
    },
    {
     "name": "stdout",
     "output_type": "stream",
     "text": [
      "\n",
      "Langkah 4: Hitung hasil akhirnya\n"
     ]
    },
    {
     "data": {
      "image/png": "[encoded data removed]",
      "text/latex": [
       "$\\displaystyle - \\frac{1}{4}$"
      ],
      "text/plain": [
       "-1/4"
      ]
     },
     "metadata": {},
     "output_type": "display_data"
    },
    {
     "name": "stdout",
     "output_type": "stream",
     "text": [
      "\n",
      "Hasil Akhir (dalam desimal):\n"
     ]
    },
    {
     "data": {
      "image/png": "[encoded data removed]",
      "text/latex": [
       "$\\displaystyle -0.25$"
      ],
      "text/plain": [
       "-0.250000000000000"
      ]
     },
     "metadata": {},
     "output_type": "display_data"
    }
   ],
   "source": [
    "from sympy import symbols, sin, cos, pi, Integral, Rational, init_printing\n",
    "\n",
    "init_printing(use_latex=True)\n",
    "x = symbols('x')\n",
    "a, b = 0, pi/4  \n",
    "expr = Integral(x * sin(2*x), (x, a, b))\n",
    "print(\"Soal Integral:\")\n",
    "display(expr)\n",
    "\n",
    "u = x\n",
    "du = 1\n",
    "dv = sin(2*x)\n",
    "v = -Rational(1,2) * cos(2*x)\n",
    "\n",
    "step1 = (-Rational(1,2) * x * cos(2*x)).subs(x, b) - (-Rational(1,2) * x * cos(2*x)).subs(x, a)\n",
    "print(\"\\nLangkah 2: Substitusi batas pada ekspresi pertama\")\n",
    "display(step1)\n",
    "\n",
    "int_v_du = Integral(-Rational(1,2) * cos(2*x), (x, a, b)).doit()\n",
    "print(\"\\nLangkah 3: Evaluasi integral kedua\")\n",
    "display(int_v_du)\n",
    "\n",
    "final_result = step1 + int_v_du\n",
    "print(\"\\nLangkah 4: Hitung hasil akhirnya\")\n",
    "display(final_result)\n",
    "\n",
    "final_numeric = final_result.evalf()\n",
    "print(\"\\nHasil Akhir (dalam desimal):\")\n",
    "display(final_numeric)"
   ]
  },
  {
   "cell_type": "code",
   "execution_count": 13,
   "metadata": {},
   "outputs": [
    {
     "name": "stdout",
     "output_type": "stream",
     "text": [
      "Soal Integral:\n"
     ]
    },
    {
     "data": {
      "image/png": "[encoded data removed]",
      "text/latex": [
       "$\\displaystyle \\int 3 x^{2} e^{\\frac{x}{2}}\\, dx$"
      ],
      "text/plain": [
       "⌠           \n",
       "⎮       x   \n",
       "⎮       ─   \n",
       "⎮    2  2   \n",
       "⎮ 3⋅x ⋅ℯ  dx\n",
       "⌡           "
      ]
     },
     "metadata": {},
     "output_type": "display_data"
    },
    {
     "name": "stdout",
     "output_type": "stream",
     "text": [
      "\n",
      "Langkah 1: Terapkan aturan integral parsial\n"
     ]
    },
    {
     "data": {
      "image/png": "[encoded data removed]",
      "text/latex": [
       "$\\displaystyle 6 x^{2} e^{\\frac{x}{2}} - \\int 12 x e^{\\frac{x}{2}}\\, dx$"
      ],
      "text/plain": [
       "          ⌠           \n",
       "      x   ⎮       x   \n",
       "      ─   ⎮       ─   \n",
       "   2  2   ⎮       2   \n",
       "6⋅x ⋅ℯ  - ⎮ 12⋅x⋅ℯ  dx\n",
       "          ⌡           "
      ]
     },
     "metadata": {},
     "output_type": "display_data"
    },
    {
     "name": "stdout",
     "output_type": "stream",
     "text": [
      "\n",
      "Langkah 2: Sederhanakan integral tersisa\n"
     ]
    },
    {
     "data": {
      "image/png": "[encoded data removed]",
      "text/latex": [
       "$\\displaystyle \\int 12 x e^{\\frac{x}{2}}\\, dx$"
      ],
      "text/plain": [
       "⌠           \n",
       "⎮       x   \n",
       "⎮       ─   \n",
       "⎮       2   \n",
       "⎮ 12⋅x⋅ℯ  dx\n",
       "⌡           "
      ]
     },
     "metadata": {},
     "output_type": "display_data"
    },
    {
     "name": "stdout",
     "output_type": "stream",
     "text": [
      "\n",
      "Langkah 3: Evaluasi integral tersisa\n"
     ]
    },
    {
     "data": {
      "image/png": "[encoded data removed]",
      "text/latex": [
       "$\\displaystyle \\left(24 x - 48\\right) e^{\\frac{x}{2}}$"
      ],
      "text/plain": [
       "             x\n",
       "             ─\n",
       "             2\n",
       "(24⋅x - 48)⋅ℯ "
      ]
     },
     "metadata": {},
     "output_type": "display_data"
    },
    {
     "name": "stdout",
     "output_type": "stream",
     "text": [
      "\n",
      "Langkah 4: Hasil akhir setelah substitusi\n"
     ]
    },
    {
     "data": {
      "image/png": "[encoded data removed]",
      "text/latex": [
       "$\\displaystyle 6 \\left(x^{2} - 4 x + 8\\right) e^{\\frac{x}{2}}$"
      ],
      "text/plain": [
       "                  x\n",
       "                  ─\n",
       "  ⎛ 2          ⎞  2\n",
       "6⋅⎝x  - 4⋅x + 8⎠⋅ℯ "
      ]
     },
     "metadata": {},
     "output_type": "display_data"
    }
   ],
   "source": [
    "from sympy import symbols, exp, Integral, Eq, solve, init_printing, simplify\n",
    "init_printing(use_latex=True)\n",
    "x = symbols('x')\n",
    "expr = Integral(3*x**2 * exp(x/2), x)\n",
    "print(\"Soal Integral:\")\n",
    "display(expr)\n",
    "\n",
    "u = 3*x**2\n",
    "du = 6*x\n",
    "dv = exp(x/2)\n",
    "v = 2 * exp(x/2)  \n",
    "\n",
    "step1 = u * v - Integral(v * du, x)\n",
    "print(\"\\nLangkah 1: Terapkan aturan integral parsial\")\n",
    "display(step1)\n",
    "\n",
    "\n",
    "simplified_integral = Integral(12*x * exp(x/2), x)\n",
    "print(\"\\nLangkah 2: Sederhanakan integral tersisa\")\n",
    "display(simplified_integral)\n",
    "\n",
    "int_P = simplified_integral.doit()\n",
    "print(\"\\nLangkah 3: Evaluasi integral tersisa\")\n",
    "display(int_P)\n",
    "\n",
    "final_result = simplify(step1.subs(Integral(12*x * exp(x/2), x), int_P))\n",
    "print(\"\\nLangkah 4: Hasil akhir setelah substitusi\")\n",
    "display(final_result)"
   ]
  }
 ],
 "metadata": {
  "kernelspec": {
   "display_name": "Python 3",
   "language": "python",
   "name": "python3"
  },
  "language_info": {
   "codemirror_mode": {
    "name": "ipython",
    "version": 3
   },
   "file_extension": ".py",
   "mimetype": "text/x-python",
   "name": "python",
   "nbconvert_exporter": "python",
   "pygments_lexer": "ipython3",
   "version": "3.10.4"
  }
 },
 "nbformat": 4,
 "nbformat_minor": 2
}
