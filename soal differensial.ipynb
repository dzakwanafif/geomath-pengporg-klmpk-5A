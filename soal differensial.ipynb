{
 "cells": [
  {
   "cell_type": "markdown",
   "metadata": {},
   "source": [
    "# KELOMPOK 5A GEOMATH\n",
    "### MARDARIFAL HAUTEAS (H06124012)\n",
    "### THYA (H061241038)\n",
    "### ANDI AIMAN AZIZ (H061241003)\n",
    "### MUH. DZAKWAN AFIF (H061241032)\n",
    "### DEWI SOPIA S. PUDJA (H061241023)\n"
   ]
  },
  {
   "cell_type": "code",
   "execution_count": 39,
   "metadata": {},
   "outputs": [
    {
     "name": "stdout",
     "output_type": "stream",
     "text": [
      "exercise 128\n",
      "No.1 (a) d/dx (5x^5) = 25x^4\n",
      "No.1 (b) d/dx (2.4x^3.5) = 8.4x^2.5\n",
      "No.1 () d/dx (1/x) = -1x^-2\n"
     ]
    }
   ],
   "source": [
    "def derivative(a, n):\n",
    "   \n",
    "    new_a = a * n\n",
    "    new_n = n - 1\n",
    "    return new_a, new_n\n",
    "print(f\"exercise 128\")\n",
    "\n",
    "a1, n1 = 5, 5\n",
    "da1, dn1 = derivative(a1, n1)\n",
    "print(f\"No.1 (a) d/dx (5x^5) = {da1}x^{dn1}\")\n",
    "\n",
    "\n",
    "\n",
    "a2, n2 = 2.4, 3.5\n",
    "da2, dn2 = derivative(a2, n2)\n",
    "print(f\"No.1 (b) d/dx (2.4x^3.5) = {da2}x^{dn2}\")\n",
    "\n",
    "\n",
    "a3, n3 = 1, -1\n",
    "da3, dn3 = derivative(a3, n3)\n",
    "print(f\"No.1 () d/dx (1/x) = {da3}x^{dn3}\")\n",
    "\n"
   ]
  },
  {
   "cell_type": "code",
   "execution_count": 40,
   "metadata": {},
   "outputs": [
    {
     "name": "stdout",
     "output_type": "stream",
     "text": [
      "Exercise 128\n",
      "No. 5\n",
      "a.\n",
      "   y  = -4 cos(2x)\n",
      "  dy/dx = (-4)(2 sin(2x))\n"
     ]
    },
    {
     "data": {
      "image/png": "[encoded data removed]",
      "text/latex": [
       "$\\displaystyle 8 \\sin{\\left(2 x \\right)}$"
      ],
      "text/plain": [
       "8⋅sin(2⋅x)"
      ]
     },
     "metadata": {},
     "output_type": "display_data"
    },
    {
     "name": "stdout",
     "output_type": "stream",
     "text": [
      "b.\n",
      "   y  = 2 e^(6x)\n",
      "  dy/dx = (2)(6)e^(6x)\n"
     ]
    },
    {
     "data": {
      "image/png": "[encoded data removed]",
      "text/latex": [
       "$\\displaystyle 12 e^{6 x}$"
      ],
      "text/plain": [
       "    6⋅x\n",
       "12⋅ℯ   "
      ]
     },
     "metadata": {},
     "output_type": "display_data"
    },
    {
     "name": "stdout",
     "output_type": "stream",
     "text": [
      "c.\n",
      "   y  = 3 / e^(5x)\n",
      "  dy/dx = (3)(-5)e^(-5x)\n"
     ]
    },
    {
     "data": {
      "image/png": "[encoded data removed]",
      "text/latex": [
       "$\\displaystyle - 15 e^{- 5 x}$"
      ],
      "text/plain": [
       "     -5⋅x\n",
       "-15⋅ℯ    "
      ]
     },
     "metadata": {},
     "output_type": "display_data"
    }
   ],
   "source": [
    "from sympy import symbols, cos, sin, exp, diff, init_printing\n",
    "from IPython.display import display\n",
    "\n",
    "\n",
    "init_printing(use_latex=True)\n",
    "\n",
    "print(\"Exercise 128\")\n",
    "print(\"No. 5\")\n",
    "\n",
    "x = symbols('x')\n",
    "\n",
    "# Soal a\n",
    "y_a = -4 * cos(2*x)\n",
    "dy_a = diff(y_a, x)\n",
    "print(\"a.\")\n",
    "print(\"   y  = -4 cos(2x)\")\n",
    "print(\"  dy/dx = (-4)(2 sin(2x))\")\n",
    "display(dy_a)\n",
    "\n",
    "# Soal b\n",
    "y_b = 2 * exp(6*x)\n",
    "dy_b = diff(y_b, x)\n",
    "print(\"b.\")\n",
    "print(\"   y  = 2 e^(6x)\")\n",
    "print(\"  dy/dx = (2)(6)e^(6x)\")\n",
    "display(dy_b)\n",
    "\n",
    "# Soal c\n",
    "y_c = 3 / exp(5*x)  \n",
    "dy_c = diff(y_c, x)\n",
    "print(\"c.\")\n",
    "print(\"   y  = 3 / e^(5x)\")\n",
    "print(\"  dy/dx = (3)(-5)e^(-5x)\")\n",
    "display(dy_c)\n"
   ]
  },
  {
   "cell_type": "code",
   "execution_count": null,
   "metadata": {},
   "outputs": [
    {
     "name": "stdout",
     "output_type": "stream",
     "text": [
      "exercise 128\n",
      "No. 6\n",
      "a)  4 ln(9x)\n",
      "    dy/dx = d/dx (4 ln(9x))\n"
     ]
    },
    {
     "data": {
      "image/png": "[encoded data removed]",
      "text/latex": [
       "$\\displaystyle \\frac{4}{x}$"
      ],
      "text/plain": [
       "4\n",
       "─\n",
       "x"
      ]
     },
     "metadata": {},
     "output_type": "display_data"
    },
    {
     "name": "stdout",
     "output_type": "stream",
     "text": [
      "\n",
      "\n",
      "b)  (e^x - e^(-x)) / 2\n",
      "    dy/dx = d/dx ((e^x - e^(-x)) / 2)\n"
     ]
    },
    {
     "data": {
      "image/png": "[encoded data removed]",
      "text/latex": [
       "$\\displaystyle \\frac{e^{x}}{2} + \\frac{e^{- x}}{2}$"
      ],
      "text/plain": [
       " x    -x\n",
       "ℯ    ℯ  \n",
       "── + ───\n",
       "2     2 "
      ]
     },
     "metadata": {},
     "output_type": "display_data"
    },
    {
     "name": "stdout",
     "output_type": "stream",
     "text": [
      "\n",
      "\n",
      "c)  (1 - sqrt(x)) / x\n",
      "    dy/dx = d/dx ((1 - sqrt(x)) / x)\n"
     ]
    },
    {
     "data": {
      "image/png": "[encoded data removed]",
      "text/latex": [
       "$\\displaystyle - \\frac{1 - \\sqrt{x}}{x^{2}} - \\frac{1}{2 x^{\\frac{3}{2}}}$"
      ],
      "text/plain": [
       "  1 - √x     1   \n",
       "- ────── - ──────\n",
       "     2        3/2\n",
       "    x      2⋅x   "
      ]
     },
     "metadata": {},
     "output_type": "display_data"
    }
   ],
   "source": [
    "from sympy import symbols, diff, ln, exp, sqrt, init_printing\n",
    "from IPython.display import display  \n",
    "print(f\"exercise 128\")\n",
    "print(f\"No. 6\")\n",
    "\n",
    "init_printing(use_latex=True)\n",
    "\n",
    "\n",
    "x = symbols('x')\n",
    "\n",
    "\n",
    "y1 = 4 * ln(9*x)\n",
    "dy1_dx = diff(y1, x)\n",
    "print(\"a)  4 ln(9x)\")\n",
    "print(\"    dy/dx = d/dx (4 ln(9x))\")\n",
    "display(dy1_dx)\n",
    "print(\"\\n\")\n",
    "\n",
    "\n",
    "y2 = (exp(x) - exp(-x)) / 2\n",
    "dy2_dx = diff(y2, x)\n",
    "print(\"b)  (e^x - e^(-x)) / 2\")\n",
    "print(\"    dy/dx = d/dx ((e^x - e^(-x)) / 2)\")\n",
    "display(dy2_dx)\n",
    "print(\"\\n\")\n",
    "\n",
    "\n",
    "y3 = (1 - sqrt(x)) / x\n",
    "dy3_dx = diff(y3, x)\n",
    "print(\"c)  (1 - sqrt(x)) / x\")\n",
    "print(\"    dy/dx = d/dx ((1 - sqrt(x)) / x)\")\n",
    "display(dy3_dx)"
   ]
  },
  {
   "cell_type": "code",
   "execution_count": null,
   "metadata": {},
   "outputs": [
    {
     "name": "stdout",
     "output_type": "stream",
     "text": [
      "Exercise 128\n",
      "No. 11\n",
      "Fungsi potensial:\n"
     ]
    },
    {
     "data": {
      "image/png": "[encoded data removed]",
      "text/latex": [
       "$\\displaystyle p = - g m x + \\frac{k x^{2}}{2}$"
      ],
      "text/plain": [
       "                2\n",
       "             k⋅x \n",
       "p = -g⋅m⋅x + ────\n",
       "              2  "
      ]
     },
     "metadata": {},
     "output_type": "display_data"
    },
    {
     "name": "stdout",
     "output_type": "stream",
     "text": [
      "\n",
      "Turunan pertama terhadap x:\n"
     ]
    },
    {
     "data": {
      "image/png": "[encoded data removed]",
      "text/latex": [
       "$\\displaystyle dp/dx = - g m + k x$"
      ],
      "text/plain": [
       "dp/dx = -g⋅m + k⋅x"
      ]
     },
     "metadata": {},
     "output_type": "display_data"
    },
    {
     "name": "stdout",
     "output_type": "stream",
     "text": [
      "\n",
      "Persamaan keseimbangan:\n"
     ]
    },
    {
     "data": {
      "image/png": "[encoded data removed]",
      "text/latex": [
       "$\\displaystyle - g m + k x = 0$"
      ],
      "text/plain": [
       "-g⋅m + k⋅x = 0"
      ]
     },
     "metadata": {},
     "output_type": "display_data"
    },
    {
     "name": "stdout",
     "output_type": "stream",
     "text": [
      "\n",
      "Solusi x untuk keseimbangan:\n"
     ]
    },
    {
     "data": {
      "image/png": "[encoded data removed]",
      "text/latex": [
       "$\\displaystyle x = \\frac{g m}{k}$"
      ],
      "text/plain": [
       "    g⋅m\n",
       "x = ───\n",
       "     k "
      ]
     },
     "metadata": {},
     "output_type": "display_data"
    }
   ],
   "source": [
    "from sympy import symbols, diff, Rational, Eq, solve, init_printing\n",
    "from IPython.display import display\n",
    "print(\"Exercise 128\")\n",
    "print(\"No. 11\")\n",
    "init_printing(use_latex=True)\n",
    "\n",
    "\n",
    "x, k, m, g = symbols('x k m g')\n",
    "\n",
    "\n",
    "p = Rational(1, 2) * k * x**2 - m * g * x\n",
    "\n",
    "\n",
    "dp_dx = diff(p, x)\n",
    "\n",
    "\n",
    "equilibrium_eq = Eq(dp_dx, 0)\n",
    "\n",
    "\n",
    "x_solution = solve(equilibrium_eq, x)[0]\n",
    "\n",
    "\n",
    "print(\"Fungsi potensial:\")\n",
    "display(Eq(symbols('p'), p))\n",
    "\n",
    "print(\"\\nTurunan pertama terhadap x:\")\n",
    "display(Eq(symbols('dp/dx'), dp_dx))\n",
    "\n",
    "print(\"\\nPersamaan keseimbangan:\")\n",
    "display(equilibrium_eq)\n",
    "\n",
    "print(\"\\nSolusi x untuk keseimbangan:\")\n",
    "display(Eq(symbols('x'), x_solution))"
   ]
  },
  {
   "cell_type": "code",
   "execution_count": 38,
   "metadata": {},
   "outputs": [
    {
     "name": "stdout",
     "output_type": "stream",
     "text": [
      "Exercise 131\n",
      "Soal 1:\n"
     ]
    },
    {
     "data": {
      "image/png": "[encoded data removed]",
      "text/latex": [
       "$\\displaystyle 12 \\left(2 x - 1\\right)^{5}$"
      ],
      "text/plain": [
       "            5\n",
       "12⋅(2⋅x - 1) "
      ]
     },
     "metadata": {},
     "output_type": "display_data"
    },
    {
     "name": "stdout",
     "output_type": "stream",
     "text": [
      "Soal 3 (Perbaikan):\n"
     ]
    },
    {
     "data": {
      "image/png": "[encoded data removed]",
      "text/latex": [
       "$\\displaystyle 6 \\cos{\\left(3 \\theta - 2 \\right)}$"
      ],
      "text/plain": [
       "6⋅cos(3⋅θ - 2)"
      ]
     },
     "metadata": {},
     "output_type": "display_data"
    },
    {
     "name": "stdout",
     "output_type": "stream",
     "text": [
      "Soal 5:\n"
     ]
    },
    {
     "data": {
      "image/png": "[encoded data removed]",
      "text/latex": [
       "$\\displaystyle \\frac{10 - 15 x^{2}}{\\left(x^{3} - 2 x + 1\\right)^{6}}$"
      ],
      "text/plain": [
       "            2  \n",
       "   10 - 15⋅x   \n",
       "───────────────\n",
       "              6\n",
       "⎛ 3          ⎞ \n",
       "⎝x  - 2⋅x + 1⎠ "
      ]
     },
     "metadata": {},
     "output_type": "display_data"
    }
   ],
   "source": [
    "from sympy import symbols, sin, cos, diff, init_printing\n",
    "print(\"Exercise 131\")\n",
    "\n",
    "\n",
    "init_printing(use_latex=True)\n",
    "\n",
    "\n",
    "x, theta = symbols('x theta')\n",
    "\n",
    "\n",
    "y1 = (2*x - 1)**6\n",
    "dy1 = diff(y1, x)\n",
    "\n",
    "\n",
    "y3 = 2 * sin(3*theta - 2)\n",
    "dy3 = diff(y3, theta)\n",
    "\n",
    "\n",
    "y5 = (x**3 - 2*x + 1)**(-5)\n",
    "dy5 = diff(y5, x)\n",
    "\n",
    "\n",
    "\n",
    "print(\"Soal 1:\")\n",
    "display(dy1)\n",
    "\n",
    "print(\"Soal 3 (Perbaikan):\")\n",
    "display(dy3)\n",
    "\n",
    "print(\"Soal 5:\")\n",
    "display(dy5)"
   ]
  },
  {
   "cell_type": "code",
   "execution_count": 27,
   "metadata": {},
   "outputs": [
    {
     "name": "stdout",
     "output_type": "stream",
     "text": [
      "Exercise 131\n",
      "No 7 dan 11\n",
      "Turunan soal nomor 7:\n"
     ]
    },
    {
     "data": {
      "image/png": "[encoded data removed]",
      "text/latex": [
       "$\\displaystyle 20 t \\left(- \\cot^{2}{\\left(5 t^{2} + 3 \\right)} - 1\\right)$"
      ],
      "text/plain": [
       "     ⎛     2⎛   2    ⎞    ⎞\n",
       "20⋅t⋅⎝- cot ⎝5⋅t  + 3⎠ - 1⎠"
      ]
     },
     "metadata": {},
     "output_type": "display_data"
    },
    {
     "name": "stdout",
     "output_type": "stream",
     "text": [
      "Turunan soal nomor 11:\n"
     ]
    },
    {
     "data": {
      "image/png": "[encoded data removed]",
      "text/latex": [
       "$\\displaystyle - 0.162 \\sin{\\left(0.3 t - 0.15 \\right)}$"
      ],
      "text/plain": [
       "-0.162⋅sin(0.3⋅t - 0.15)"
      ]
     },
     "metadata": {},
     "output_type": "display_data"
    },
    {
     "name": "stdout",
     "output_type": "stream",
     "text": [
      "Kecepatan saat t = 0: 0.0242089774607231 mm/s\n",
      "Kecepatan saat t = 2: -0.0704644165260193 mm/s\n"
     ]
    }
   ],
   "source": [
    "from sympy import symbols, cot, csc, cos, sin, diff, pi, N, init_printing\n",
    "print(\"Exercise 131\")\n",
    "print(\"No 7 dan 11\")\n",
    "init_printing(use_latex=True)\n",
    "\n",
    "\n",
    "t = symbols('t')\n",
    "\n",
    "\n",
    "y7 = 2 * cot(5*t**2 + 3)\n",
    "dy7_dt = diff(y7, t)\n",
    "\n",
    "\n",
    "print(\"Turunan soal nomor 7:\")\n",
    "display(dy7_dt)\n",
    "\n",
    "\n",
    "x11 = 0.54 * cos(0.3*t - 0.15) + 3.12\n",
    "dx11_dt = diff(x11, t)\n",
    "\n",
    "\n",
    "print(\"Turunan soal nomor 11:\")\n",
    "display(dx11_dt)\n",
    "\n",
    "\n",
    "v_t0 = dx11_dt.subs(t, 0)\n",
    "v_t2 = dx11_dt.subs(t, 2)\n",
    "\n",
    "\n",
    "v_t0_val = N(v_t0)\n",
    "v_t2_val = N(v_t2)\n",
    "\n",
    "\n",
    "print(f\"Kecepatan saat t = 0: {v_t0_val} mm/s\")\n",
    "print(f\"Kecepatan saat t = 2: {v_t2_val} mm/s\")"
   ]
  },
  {
   "cell_type": "code",
   "execution_count": null,
   "metadata": {},
   "outputs": [
    {
     "name": "stdout",
     "output_type": "stream",
     "text": [
      "Exercise 129\n",
      "soal nomor 1:\n"
     ]
    },
    {
     "data": {
      "image/png": "[encoded data removed]",
      "text/latex": [
       "$\\displaystyle x \\cos{\\left(x \\right)} + \\sin{\\left(x \\right)}$"
      ],
      "text/plain": [
       "x⋅cos(x) + sin(x)"
      ]
     },
     "metadata": {},
     "output_type": "display_data"
    },
    {
     "name": "stdout",
     "output_type": "stream",
     "text": [
      "soal nomor 3:\n"
     ]
    },
    {
     "data": {
      "image/png": "[encoded data removed]",
      "text/latex": [
       "$\\displaystyle 2 x \\log{\\left(x \\right)} + x$"
      ],
      "text/plain": [
       "2⋅x⋅log(x) + x"
      ]
     },
     "metadata": {},
     "output_type": "display_data"
    },
    {
     "name": "stdout",
     "output_type": "stream",
     "text": [
      "soal nomor 5:\n"
     ]
    },
    {
     "data": {
      "image/png": "[encoded data removed]",
      "text/latex": [
       "$\\displaystyle \\frac{\\log{\\left(3 x \\right)}}{2 \\sqrt{x}} + \\frac{1}{\\sqrt{x}}$"
      ],
      "text/plain": [
       "log(3⋅x)   1 \n",
       "──────── + ──\n",
       "  2⋅√x     √x"
      ]
     },
     "metadata": {},
     "output_type": "display_data"
    },
    {
     "name": "stdout",
     "output_type": "stream",
     "text": [
      "soal nomor 7:\n"
     ]
    },
    {
     "data": {
      "image/png": "[encoded data removed]",
      "text/latex": [
       "$\\displaystyle 4 e^{4 θ} \\log{\\left(3 θ \\right)} + \\frac{e^{4 θ}}{θ}$"
      ],
      "text/plain": [
       "                   4⋅θ\n",
       "   4⋅θ            ℯ   \n",
       "4⋅ℯ   ⋅log(3⋅θ) + ────\n",
       "                   θ  "
      ]
     },
     "metadata": {},
     "output_type": "display_data"
    },
    {
     "name": "stdout",
     "output_type": "stream",
     "text": [
      "soal nomor 9:\n"
     ]
    },
    {
     "data": {
      "image/png": "[encoded data removed]",
      "text/latex": [
       "$\\displaystyle 45 t \\cos{\\left(3 t \\right)} + 15 \\sin{\\left(3 t \\right)}$"
      ],
      "text/plain": [
       "45⋅t⋅cos(3⋅t) + 15⋅sin(3⋅t)"
      ]
     },
     "metadata": {},
     "output_type": "display_data"
    },
    {
     "data": {
      "image/png": "[encoded data removed]",
      "text/latex": [
       "$\\displaystyle 8.732$"
      ],
      "text/plain": [
       "8.732"
      ]
     },
     "metadata": {},
     "output_type": "display_data"
    }
   ],
   "source": [
    "from sympy import symbols, sin, cos, ln, diff, init_printing\n",
    "print(\"Exercise 129\")\n",
    "\n",
    "\n",
    "init_printing(use_latex=True)\n",
    "\n",
    "\n",
    "x = symbols('x')\n",
    "\n",
    "\n",
    "u1 = x\n",
    "v1 = sin(x)\n",
    "\n",
    "\n",
    "u1_diff = diff(u1, x)\n",
    "v1_diff = diff(v1, x)\n",
    "\n",
    "\n",
    "result_1 = u1_diff * v1 + u1 * v1_diff\n",
    "\n",
    "\n",
    "print(\"soal nomor 1:\")\n",
    "display(result_1)\n",
    "\n",
    "\n",
    "u3 = x**2\n",
    "v3 = ln(x)\n",
    "\n",
    "\n",
    "u3_diff = diff(u3, x)\n",
    "v3_diff = diff(v3, x)\n",
    "\n",
    "\n",
    "result_3 = u3_diff * v3 + u3 * v3_diff\n",
    "\n",
    "\n",
    "print(\"soal nomor 3:\")\n",
    "display(result_3)\n",
    "\n",
    "\n",
    "\n",
    "x = symbols('x')\n",
    "\n",
    "\n",
    "y = sqrt(x) * ln(3*x)\n",
    "\n",
    "\n",
    "dy_dx = diff(y, x)\n",
    "\n",
    "print(\"soal nomor 5:\")\n",
    "display(dy_dx)\n",
    "\n",
    "print(\"soal nomor 7:\")\n",
    "\n",
    "theta = symbols('θ')\n",
    "\n",
    "\n",
    "y = exp(4*theta) * ln(3*theta)\n",
    "\n",
    "\n",
    "dy_dtheta = diff(y, theta)\n",
    "\n",
    "\n",
    "display(dy_dtheta)\n",
    "\n",
    "\n",
    "print(\"soal nomor 9:\")\n",
    "\n",
    "t = symbols('t')\n",
    "\n",
    "\n",
    "i = 15 * t * sin(3*t)\n",
    "\n",
    "\n",
    "di_dt = diff(i, t)\n",
    "\n",
    "\n",
    "display(di_dt)\n",
    "\n",
    "\n",
    "nilai_di_dt = N(di_dt.subs(t, 0.1), 4)\n",
    "\n",
    "display(nilai_di_dt)\n"
   ]
  },
  {
   "cell_type": "code",
   "execution_count": null,
   "metadata": {},
   "outputs": [
    {
     "name": "stdout",
     "output_type": "stream",
     "text": [
      "Exercise 130\n",
      "soal nomor 3:\n"
     ]
    },
    {
     "data": {
      "image/png": "[encoded data removed]",
      "text/latex": [
       "$\\displaystyle \\frac{d}{d x} \\frac{2 x}{x^{2} + 1} = - \\frac{4 x^{2}}{\\left(x^{2} + 1\\right)^{2}} + \\frac{2}{x^{2} + 1}$"
      ],
      "text/plain": [
       "                     2           \n",
       "d ⎛ 2⋅x  ⎞        4⋅x        2   \n",
       "──⎜──────⎟ = - ───────── + ──────\n",
       "dx⎜ 2    ⎟             2    2    \n",
       "  ⎝x  + 1⎠     ⎛ 2    ⎞    x  + 1\n",
       "               ⎝x  + 1⎠          "
      ]
     },
     "metadata": {},
     "output_type": "display_data"
    },
    {
     "name": "stdout",
     "output_type": "stream",
     "text": [
      "soal nomor 5:\n"
     ]
    },
    {
     "data": {
      "image/png": "[encoded data removed]",
      "text/latex": [
       "$\\displaystyle \\frac{d}{d \\theta} \\frac{3 \\theta^{1.5}}{2 \\sin{\\left(2 \\theta \\right)}} = \\frac{2.25 \\theta^{0.5}}{\\sin{\\left(2 \\theta \\right)}} - \\frac{3 \\theta^{1.5} \\cos{\\left(2 \\theta \\right)}}{\\sin^{2}{\\left(2 \\theta \\right)}}$"
      ],
      "text/plain": [
       "  ⎛     1.5  ⎞         0.5      1.5         \n",
       "d ⎜  3⋅θ     ⎟   2.25⋅θ      3⋅θ   ⋅cos(2⋅θ)\n",
       "──⎜──────────⎟ = ───────── - ───────────────\n",
       "dθ⎝2⋅sin(2⋅θ)⎠    sin(2⋅θ)         2        \n",
       "                                sin (2⋅θ)   "
      ]
     },
     "metadata": {},
     "output_type": "display_data"
    },
    {
     "name": "stdout",
     "output_type": "stream",
     "text": [
      "soal nomor 7:\n"
     ]
    },
    {
     "data": {
      "image/png": "[encoded data removed]",
      "text/latex": [
       "$\\displaystyle \\frac{- 2 x e^{9 x} \\cos{\\left(x \\right)} + \\left(18 x e^{9 x} + 2 e^{9 x}\\right) \\sin{\\left(x \\right)}}{\\sin^{2}{\\left(x \\right)}}$"
      ],
      "text/plain": [
       "       9⋅x          ⎛      9⋅x      9⋅x⎞       \n",
       "- 2⋅x⋅ℯ   ⋅cos(x) + ⎝18⋅x⋅ℯ    + 2⋅ℯ   ⎠⋅sin(x)\n",
       "───────────────────────────────────────────────\n",
       "                       2                       \n",
       "                    sin (x)                    "
      ]
     },
     "execution_count": 55,
     "metadata": {},
     "output_type": "execute_result"
    }
   ],
   "source": [
    "import sympy as sp\n",
    "from sympy import init_printing\n",
    "from sympy import symbols, diff, sin, cos, Rational, latex, init_printing\n",
    "\n",
    "print(\"Exercise 130\")\n",
    "print(\"soal nomor 3:\")\n",
    "\n",
    "init_printing(use_latex=True)\n",
    "\n",
    "\n",
    "x = sp.symbols('x')\n",
    "y = (2*x) / (x**2 + 1)\n",
    "\n",
    "\n",
    "dy_dx = sp.diff(y, x)\n",
    "\n",
    "\n",
    "display(sp.Eq(sp.Derivative(y, x), dy_dx))\n",
    "\n",
    "print(\"soal nomor 5:\")\n",
    "\n",
    "\n",
    "theta = sp.symbols('theta')\n",
    "y = (3 * theta**(3/2)) / (2 * sp.sin(2 * theta))\n",
    "\n",
    "\n",
    "dy_dtheta = sp.diff(y, theta)\n",
    "\n",
    "\n",
    "display(sp.Eq(sp.Derivative(y, theta), dy_dtheta))\n",
    "\n",
    "print(\"soal nomor 7:\")\n",
    "\n",
    "x = sp.Symbol('x')\n",
    "\n",
    "\n",
    "u = 2*x*sp.exp(9*x)\n",
    "v = sp.sin(x)\n",
    "\n",
    "\n",
    "du = sp.diff(u, x)\n",
    "dv = sp.diff(v, x)\n",
    "\n",
    "dy_dx = (du * v - u * dv) / v**2\n",
    "\n",
    "\n",
    "dy_dx\n",
    "\n",
    "\n"
   ]
  },
  {
   "cell_type": "code",
   "execution_count": 61,
   "metadata": {},
   "outputs": [
    {
     "name": "stdout",
     "output_type": "stream",
     "text": [
      "Exercise 130\n",
      "soal nomor 9:\n"
     ]
    },
    {
     "data": {
      "image/png": "[encoded data removed]",
      "text/latex": [
       "$\\displaystyle 20.0171345199102$"
      ],
      "text/plain": [
       "20.0171345199102"
      ]
     },
     "execution_count": 61,
     "metadata": {},
     "output_type": "execute_result"
    }
   ],
   "source": [
    "from sympy import symbols, diff, ln, N\n",
    "print(\"Exercise 130\")\n",
    "print(\"soal nomor 9:\")\n",
    "# Inisialisasi variabel\n",
    "x = symbols('x')\n",
    "\n",
    "\n",
    "u = 2*x**x + 3\n",
    "v = ln(2*x)\n",
    "\n",
    "\n",
    "du_dx = diff(u, x)\n",
    "dv_dx = diff(v, x)\n",
    "\n",
    "\n",
    "dy_dx = (du_dx * v - u * dv_dx) / v**2\n",
    "\n",
    "\n",
    "nilai_x = 2.5\n",
    "hasil_desimal = N(dy_dx.subs(x, nilai_x))\n",
    "\n",
    "\n",
    "hasil_desimal"
   ]
  },
  {
   "cell_type": "code",
   "execution_count": null,
   "metadata": {},
   "outputs": [
    {
     "name": "stdout",
     "output_type": "stream",
     "text": [
      "Exercise 169\n",
      "soal nomor 1:\n"
     ]
    },
    {
     "data": {
      "image/png": "[encoded data removed]",
      "text/latex": [
       "$\\displaystyle 0$"
      ],
      "text/plain": [
       "0"
      ]
     },
     "metadata": {},
     "output_type": "display_data"
    },
    {
     "data": {
      "image/png": "[encoded data removed]",
      "text/latex": [
       "$\\displaystyle -1$"
      ],
      "text/plain": [
       "-1"
      ]
     },
     "metadata": {},
     "output_type": "display_data"
    }
   ],
   "source": [
    "from sympy import symbols, diff, Function, init_printing\n",
    "print(\"Exercise 169\")\n",
    "print(\"soal nomor 1:\")\n",
    "\n",
    "init_printing(use_latex=True)\n",
    "\n",
    "\n",
    "x, y, z = symbols('x y z')\n",
    "\n",
    "\n",
    "z = 2 - y\n",
    "\n",
    "\n",
    "dz_dx = diff(z, x)  \n",
    "display(dz_dx)\n",
    "\n",
    "\n",
    "dz_dy = diff(z, y)  \n",
    "display(dz_dy)"
   ]
  },
  {
   "cell_type": "code",
   "execution_count": 124,
   "metadata": {},
   "outputs": [
    {
     "name": "stdout",
     "output_type": "stream",
     "text": [
      "Exercise 169\n",
      "soal nomor 3:\n",
      "Fungsi z:\n"
     ]
    },
    {
     "data": {
      "image/png": "[encoded data removed]",
      "text/latex": [
       "$\\displaystyle \\frac{x}{y}$"
      ],
      "text/plain": [
       "x\n",
       "─\n",
       "y"
      ]
     },
     "metadata": {},
     "output_type": "display_data"
    },
    {
     "name": "stdout",
     "output_type": "stream",
     "text": [
      "Turunan parsial dz/dx:\n"
     ]
    },
    {
     "data": {
      "image/png": "[encoded data removed]",
      "text/latex": [
       "$\\displaystyle \\frac{1}{y}$"
      ],
      "text/plain": [
       "1\n",
       "─\n",
       "y"
      ]
     },
     "metadata": {},
     "output_type": "display_data"
    },
    {
     "name": "stdout",
     "output_type": "stream",
     "text": [
      "Turunan parsial dz/dy:\n"
     ]
    },
    {
     "data": {
      "image/png": "[encoded data removed]",
      "text/latex": [
       "$\\displaystyle - \\frac{x}{y^{2}}$"
      ],
      "text/plain": [
       "-x \n",
       "───\n",
       "  2\n",
       " y "
      ]
     },
     "metadata": {},
     "output_type": "display_data"
    }
   ],
   "source": [
    "import sympy as sp\n",
    "from IPython.display import display\n",
    "print(\"Exercise 169\")\n",
    "print(\"soal nomor 3:\")\n",
    "\n",
    "x, y = sp.symbols('x y')\n",
    "\n",
    "\n",
    "z = x / y\n",
    "\n",
    "\n",
    "dz_dx = sp.diff(z, x)\n",
    "dz_dy = sp.diff(z, y)\n",
    "\n",
    "\n",
    "print(\"Fungsi z:\")\n",
    "display(z)\n",
    "\n",
    "print(\"Turunan parsial dz/dx:\")\n",
    "display(dz_dx)\n",
    "\n",
    "print(\"Turunan parsial dz/dy:\")\n",
    "display(dz_dy)\n"
   ]
  },
  {
   "cell_type": "code",
   "execution_count": 74,
   "metadata": {},
   "outputs": [
    {
     "name": "stdout",
     "output_type": "stream",
     "text": [
      "Exercise 169\n",
      "soal nomor 5:\n",
      "Fungsi z:\n"
     ]
    },
    {
     "data": {
      "image/png": "[encoded data removed]",
      "text/latex": [
       "$\\displaystyle x^{3} y^{2} + \\frac{1}{y} - \\frac{y}{x^{2}}$"
      ],
      "text/plain": [
       " 3  2   1   y \n",
       "x ⋅y  + ─ - ──\n",
       "        y    2\n",
       "            x "
      ]
     },
     "metadata": {},
     "output_type": "display_data"
    },
    {
     "name": "stdout",
     "output_type": "stream",
     "text": [
      "Turunan parsial dz/dx:\n"
     ]
    },
    {
     "data": {
      "image/png": "[encoded data removed]",
      "text/latex": [
       "$\\displaystyle 3 x^{2} y^{2} + \\frac{2 y}{x^{3}}$"
      ],
      "text/plain": [
       "   2  2   2⋅y\n",
       "3⋅x ⋅y  + ───\n",
       "            3\n",
       "           x "
      ]
     },
     "metadata": {},
     "output_type": "display_data"
    },
    {
     "name": "stdout",
     "output_type": "stream",
     "text": [
      "Turunan parsial dz/dy:\n"
     ]
    },
    {
     "data": {
      "image/png": "[encoded data removed]",
      "text/latex": [
       "$\\displaystyle 2 x^{3} y - \\frac{1}{y^{2}} - \\frac{1}{x^{2}}$"
      ],
      "text/plain": [
       "   3     1    1 \n",
       "2⋅x ⋅y - ── - ──\n",
       "          2    2\n",
       "         y    x "
      ]
     },
     "metadata": {},
     "output_type": "display_data"
    }
   ],
   "source": [
    "import sympy as sp\n",
    "from IPython.display import display\n",
    "print(\"Exercise 169\")\n",
    "print(\"soal nomor 5:\")\n",
    "\n",
    "x, y = sp.symbols('x y')\n",
    "\n",
    "\n",
    "z = x**3 * y**2 - y / x**2 + 1 / y\n",
    "\n",
    "\n",
    "dz_dx = sp.diff(z, x)  \n",
    "dz_dy = sp.diff(z, y)  \n",
    "\n",
    "\n",
    "print(\"Fungsi z:\")\n",
    "display(z)\n",
    "\n",
    "print(\"Turunan parsial dz/dx:\")\n",
    "display(dz_dx)\n",
    "\n",
    "print(\"Turunan parsial dz/dy:\")\n",
    "display(dz_dy)"
   ]
  },
  {
   "cell_type": "code",
   "execution_count": null,
   "metadata": {},
   "outputs": [
    {
     "name": "stdout",
     "output_type": "stream",
     "text": [
      "Exercise 169\n",
      "soal nomor 7:\n",
      "Fungsi v:\n"
     ]
    },
    {
     "data": {
      "image/png": "[encoded data removed]",
      "text/latex": [
       "$\\displaystyle 0.333333333333333 h r^{2} x$"
      ],
      "text/plain": [
       "                     2  \n",
       "0.333333333333333⋅h⋅r ⋅x"
      ]
     },
     "metadata": {},
     "output_type": "display_data"
    },
    {
     "name": "stdout",
     "output_type": "stream",
     "text": [
      "Turunan parsial dv/dh:\n"
     ]
    },
    {
     "data": {
      "image/png": "[encoded data removed]",
      "text/latex": [
       "$\\displaystyle 0.333333333333333 r^{2} x$"
      ],
      "text/plain": [
       "                   2  \n",
       "0.333333333333333⋅r ⋅x"
      ]
     },
     "metadata": {},
     "output_type": "display_data"
    },
    {
     "name": "stdout",
     "output_type": "stream",
     "text": [
      "Turunan parsial dv/dr:\n"
     ]
    },
    {
     "data": {
      "image/png": "[encoded data removed]",
      "text/latex": [
       "$\\displaystyle 0.666666666666667 h r x$"
      ],
      "text/plain": [
       "0.666666666666667⋅h⋅r⋅x"
      ]
     },
     "metadata": {},
     "output_type": "display_data"
    }
   ],
   "source": [
    "import sympy as sp\n",
    "from IPython.display import display\n",
    "print(\"Exercise 169\")\n",
    "print(\"soal nomor 7:\")\n",
    "\n",
    "x, r, h = sp.symbols('x r h')\n",
    "\n",
    "\n",
    "v = (1/3) * x * r**2 * h\n",
    "\n",
    "\n",
    "dv_dh = sp.diff(v, h)  \n",
    "dv_dr = sp.diff(v, r)  \n",
    "\n",
    "\n",
    "print(\"Fungsi v:\")\n",
    "display(v)\n",
    "\n",
    "print(\"Turunan parsial dv/dh:\")\n",
    "display(dv_dh)\n",
    "\n",
    "print(\"Turunan parsial dv/dr:\")\n",
    "display(dv_dr)\n"
   ]
  },
  {
   "cell_type": "code",
   "execution_count": null,
   "metadata": {},
   "outputs": [
    {
     "name": "stdout",
     "output_type": "stream",
     "text": [
      "Exercise 169\n",
      "soal nomor 9:\n",
      "Fungsi y:\n"
     ]
    },
    {
     "data": {
      "image/png": "[encoded data removed]",
      "text/latex": [
       "$\\displaystyle \\left(k \\cos{\\left(\\frac{b n \\pi t}{L} \\right)} + l \\sin{\\left(\\frac{b n \\pi t}{L} \\right)}\\right) \\sin{\\left(\\frac{n \\pi x}{L} \\right)}$"
      ],
      "text/plain": [
       "⎛     ⎛b⋅n⋅π⋅t⎞        ⎛b⋅n⋅π⋅t⎞⎞    ⎛n⋅π⋅x⎞\n",
       "⎜k⋅cos⎜───────⎟ + l⋅sin⎜───────⎟⎟⋅sin⎜─────⎟\n",
       "⎝     ⎝   L   ⎠        ⎝   L   ⎠⎠    ⎝  L  ⎠"
      ]
     },
     "metadata": {},
     "output_type": "display_data"
    },
    {
     "name": "stdout",
     "output_type": "stream",
     "text": [
      "Turunan parsial dy/dx:\n"
     ]
    },
    {
     "data": {
      "image/png": "[encoded data removed]",
      "text/latex": [
       "$\\displaystyle \\frac{n \\pi \\left(k \\cos{\\left(\\frac{b n \\pi t}{L} \\right)} + l \\sin{\\left(\\frac{b n \\pi t}{L} \\right)}\\right) \\cos{\\left(\\frac{n \\pi x}{L} \\right)}}{L}$"
      ],
      "text/plain": [
       "    ⎛     ⎛b⋅n⋅π⋅t⎞        ⎛b⋅n⋅π⋅t⎞⎞    ⎛n⋅π⋅x⎞\n",
       "n⋅π⋅⎜k⋅cos⎜───────⎟ + l⋅sin⎜───────⎟⎟⋅cos⎜─────⎟\n",
       "    ⎝     ⎝   L   ⎠        ⎝   L   ⎠⎠    ⎝  L  ⎠\n",
       "────────────────────────────────────────────────\n",
       "                       L                        "
      ]
     },
     "metadata": {},
     "output_type": "display_data"
    },
    {
     "name": "stdout",
     "output_type": "stream",
     "text": [
      "Turunan parsial dy/dt:\n"
     ]
    },
    {
     "data": {
      "image/png": "[encoded data removed]",
      "text/latex": [
       "$\\displaystyle \\left(- \\frac{b k n \\pi \\sin{\\left(\\frac{b n \\pi t}{L} \\right)}}{L} + \\frac{b l n \\pi \\cos{\\left(\\frac{b n \\pi t}{L} \\right)}}{L}\\right) \\sin{\\left(\\frac{n \\pi x}{L} \\right)}$"
      ],
      "text/plain": [
       "⎛             ⎛b⋅n⋅π⋅t⎞              ⎛b⋅n⋅π⋅t⎞⎞           \n",
       "⎜  b⋅k⋅n⋅π⋅sin⎜───────⎟   b⋅l⋅n⋅π⋅cos⎜───────⎟⎟           \n",
       "⎜             ⎝   L   ⎠              ⎝   L   ⎠⎟    ⎛n⋅π⋅x⎞\n",
       "⎜- ──────────────────── + ────────────────────⎟⋅sin⎜─────⎟\n",
       "⎝           L                      L          ⎠    ⎝  L  ⎠"
      ]
     },
     "metadata": {},
     "output_type": "display_data"
    }
   ],
   "source": [
    "import sympy as sp\n",
    "from IPython.display import display\n",
    "print(\"Exercise 169\")\n",
    "print(\"soal nomor 9:\")\n",
    "\n",
    "x, t, n, pi, L, k, l, b = sp.symbols('x t n pi L k l b')\n",
    "\n",
    "\n",
    "y = sp.sin((n * pi / L) * x) * (k * sp.cos((n * pi / L) * b * t) + l * sp.sin((n * pi / L) * b * t))\n",
    "\n",
    "\n",
    "dy_dx = sp.diff(y, x)  \n",
    "dy_dt = sp.diff(y, t)  \n",
    "\n",
    "\n",
    "print(\"Fungsi y:\")\n",
    "display(y)\n",
    "\n",
    "print(\"Turunan parsial dy/dx:\")\n",
    "display(dy_dx)\n",
    "\n",
    "print(\"Turunan parsial dy/dt:\")\n",
    "display(dy_dt)"
   ]
  },
  {
   "cell_type": "code",
   "execution_count": 123,
   "metadata": {},
   "outputs": [
    {
     "name": "stdout",
     "output_type": "stream",
     "text": [
      "Exercise 169\n",
      "soal nomor 2 (a):\n",
      "Fungsi f(x, y):\n"
     ]
    },
    {
     "data": {
      "image/png": "[encoded data removed]",
      "text/latex": [
       "$\\displaystyle x^{2} - 2 x + y^{2} + 4 y + 8$"
      ],
      "text/plain": [
       " 2          2          \n",
       "x  - 2⋅x + y  + 4⋅y + 8"
      ]
     },
     "metadata": {},
     "output_type": "display_data"
    },
    {
     "name": "stdout",
     "output_type": "stream",
     "text": [
      "Turunan pertama df/dx dan df/dy:\n"
     ]
    },
    {
     "data": {
      "image/png": "[encoded data removed]",
      "text/latex": [
       "$\\displaystyle 2 x - 2$"
      ],
      "text/plain": [
       "2⋅x - 2"
      ]
     },
     "metadata": {},
     "output_type": "display_data"
    },
    {
     "data": {
      "image/png": "[encoded data removed]",
      "text/latex": [
       "$\\displaystyle 2 y + 4$"
      ],
      "text/plain": [
       "2⋅y + 4"
      ]
     },
     "metadata": {},
     "output_type": "display_data"
    },
    {
     "name": "stdout",
     "output_type": "stream",
     "text": [
      "Titik stasioner:\n"
     ]
    },
    {
     "data": {
      "image/png": "[encoded data removed]",
      "text/latex": [
       "$\\displaystyle \\left\\{ x : 1, \\  y : -2\\right\\}$"
      ],
      "text/plain": [
       "{x: 1, y: -2}"
      ]
     },
     "metadata": {},
     "output_type": "display_data"
    },
    {
     "name": "stdout",
     "output_type": "stream",
     "text": [
      "Turunan kedua:\n"
     ]
    },
    {
     "data": {
      "image/png": "[encoded data removed]",
      "text/latex": [
       "$\\displaystyle 2$"
      ],
      "text/plain": [
       "2"
      ]
     },
     "metadata": {},
     "output_type": "display_data"
    },
    {
     "data": {
      "image/png": "[encoded data removed]",
      "text/latex": [
       "$\\displaystyle 2$"
      ],
      "text/plain": [
       "2"
      ]
     },
     "metadata": {},
     "output_type": "display_data"
    },
    {
     "data": {
      "image/png": "[encoded data removed]",
      "text/latex": [
       "$\\displaystyle 0$"
      ],
      "text/plain": [
       "0"
      ]
     },
     "metadata": {},
     "output_type": "display_data"
    },
    {
     "name": "stdout",
     "output_type": "stream",
     "text": [
      "Matriks Hessian:\n"
     ]
    },
    {
     "data": {
      "text/latex": [
       "$\\displaystyle \\left[\\begin{matrix}2 & 0\\\\0 & 2\\end{matrix}\\right]$"
      ],
      "text/plain": [
       "⎡2  0⎤\n",
       "⎢    ⎥\n",
       "⎣0  2⎦"
      ]
     },
     "metadata": {},
     "output_type": "display_data"
    },
    {
     "name": "stdout",
     "output_type": "stream",
     "text": [
      "Determinant Hessian D:\n"
     ]
    },
    {
     "data": {
      "image/png": "[encoded data removed]",
      "text/latex": [
       "$\\displaystyle 4$"
      ],
      "text/plain": [
       "4"
      ]
     },
     "metadata": {},
     "output_type": "display_data"
    },
    {
     "name": "stdout",
     "output_type": "stream",
     "text": [
      "Titik (1, -2) adalah Minimum Lokal ✅\n"
     ]
    }
   ],
   "source": [
    "import sympy as sp\n",
    "from IPython.display import display\n",
    "print(\"Exercise 169\")\n",
    "print(\"soal nomor 2 (a):\")\n",
    "\n",
    "x, y = sp.symbols('x y')\n",
    "\n",
    "\n",
    "f = x**2 + y**2 - 2*x + 4*y + 8\n",
    "\n",
    "\n",
    "df_dx = sp.diff(f, x)\n",
    "df_dy = sp.diff(f, y)\n",
    "\n",
    "\n",
    "critical_points = sp.solve([df_dx, df_dy], (x, y))\n",
    "\n",
    "\n",
    "d2f_dx2 = sp.diff(df_dx, x)\n",
    "d2f_dy2 = sp.diff(df_dy, y)\n",
    "d2f_dxdy = sp.diff(df_dx, y)\n",
    "\n",
    "\n",
    "H = sp.Matrix([[d2f_dx2, d2f_dxdy], [d2f_dxdy, d2f_dy2]])\n",
    "\n",
    "\n",
    "D = H.det()\n",
    "\n",
    "\n",
    "print(\"Fungsi f(x, y):\")\n",
    "display(f)\n",
    "\n",
    "print(\"Turunan pertama df/dx dan df/dy:\")\n",
    "display(df_dx, df_dy)\n",
    "\n",
    "print(\"Titik stasioner:\")\n",
    "display(critical_points)\n",
    "\n",
    "print(\"Turunan kedua:\")\n",
    "display(d2f_dx2, d2f_dy2, d2f_dxdy)\n",
    "\n",
    "print(\"Matriks Hessian:\")\n",
    "display(H)\n",
    "\n",
    "print(\"Determinant Hessian D:\")\n",
    "display(D)\n",
    "\n",
    "\n",
    "x_crit, y_crit = critical_points[x], critical_points[y]\n",
    "D_val = D.subs({x: x_crit, y: y_crit})\n",
    "d2f_dx2_val = d2f_dx2.subs({x: x_crit, y: y_crit})\n",
    "\n",
    "if D_val > 0:\n",
    "    if d2f_dx2_val > 0:\n",
    "        print(f\"Titik ({x_crit}, {y_crit}) adalah Minimum Lokal ✅\")\n",
    "    else:\n",
    "        print(f\"Titik ({x_crit}, {y_crit}) adalah Maksimum Lokal ❌\")\n",
    "elif D_val < 0:\n",
    "    print(f\"Titik ({x_crit}, {y_crit}) adalah Titik Sadel ❌\")\n",
    "else:\n",
    "    print(f\"Tidak dapat disimpulkan (D = 0) ❓\")\n",
    "\n"
   ]
  },
  {
   "cell_type": "code",
   "execution_count": null,
   "metadata": {},
   "outputs": [
    {
     "name": "stdout",
     "output_type": "stream",
     "text": [
      "Exercise 169\n",
      "soal nomor 2 (b):\n",
      "Fungsi F(x, y):\n"
     ]
    },
    {
     "data": {
      "image/png": "[encoded data removed]",
      "text/latex": [
       "$\\displaystyle x^{2} - 2 x - y^{2} + 4 y + 8$"
      ],
      "text/plain": [
       " 2          2          \n",
       "x  - 2⋅x - y  + 4⋅y + 8"
      ]
     },
     "metadata": {},
     "output_type": "display_data"
    },
    {
     "name": "stdout",
     "output_type": "stream",
     "text": [
      "Turunan pertama dF/dx dan dF/dy:\n"
     ]
    },
    {
     "data": {
      "image/png": "[encoded data removed]",
      "text/latex": [
       "$\\displaystyle 2 x - 2$"
      ],
      "text/plain": [
       "2⋅x - 2"
      ]
     },
     "metadata": {},
     "output_type": "display_data"
    },
    {
     "data": {
      "image/png": "[encoded data removed]",
      "text/latex": [
       "$\\displaystyle 4 - 2 y$"
      ],
      "text/plain": [
       "4 - 2⋅y"
      ]
     },
     "metadata": {},
     "output_type": "display_data"
    },
    {
     "name": "stdout",
     "output_type": "stream",
     "text": [
      "Titik stasioner:\n"
     ]
    },
    {
     "data": {
      "image/png": "[encoded data removed]",
      "text/latex": [
       "$\\displaystyle \\left\\{ x : 1, \\  y : 2\\right\\}$"
      ],
      "text/plain": [
       "{x: 1, y: 2}"
      ]
     },
     "metadata": {},
     "output_type": "display_data"
    },
    {
     "name": "stdout",
     "output_type": "stream",
     "text": [
      "Turunan kedua:\n"
     ]
    },
    {
     "data": {
      "image/png": "[encoded data removed]",
      "text/latex": [
       "$\\displaystyle 2$"
      ],
      "text/plain": [
       "2"
      ]
     },
     "metadata": {},
     "output_type": "display_data"
    },
    {
     "data": {
      "image/png": "[encoded data removed]",
      "text/latex": [
       "$\\displaystyle -2$"
      ],
      "text/plain": [
       "-2"
      ]
     },
     "metadata": {},
     "output_type": "display_data"
    },
    {
     "data": {
      "image/png": "[encoded data removed]",
      "text/latex": [
       "$\\displaystyle 0$"
      ],
      "text/plain": [
       "0"
      ]
     },
     "metadata": {},
     "output_type": "display_data"
    },
    {
     "name": "stdout",
     "output_type": "stream",
     "text": [
      "Matriks Hessian:\n"
     ]
    },
    {
     "data": {
      "text/latex": [
       "$\\displaystyle \\left[\\begin{matrix}2 & 0\\\\0 & -2\\end{matrix}\\right]$"
      ],
      "text/plain": [
       "⎡2  0 ⎤\n",
       "⎢     ⎥\n",
       "⎣0  -2⎦"
      ]
     },
     "metadata": {},
     "output_type": "display_data"
    },
    {
     "name": "stdout",
     "output_type": "stream",
     "text": [
      "Determinant Hessian D:\n"
     ]
    },
    {
     "data": {
      "image/png": "[encoded data removed]",
      "text/latex": [
       "$\\displaystyle -4$"
      ],
      "text/plain": [
       "-4"
      ]
     },
     "metadata": {},
     "output_type": "display_data"
    },
    {
     "name": "stdout",
     "output_type": "stream",
     "text": [
      "Titik (1, 2) adalah Titik Sadel ❌\n"
     ]
    }
   ],
   "source": [
    "\n",
    "import sympy as sp\n",
    "from IPython.display import display\n",
    "print(\"Exercise 169\")\n",
    "print(\"soal nomor 2 (b):\")\n",
    "\n",
    "x, y = sp.symbols('x y')\n",
    "\n",
    "\n",
    "F = x**2 - y**2 - 2*x + 4*y + 8\n",
    "\n",
    "\n",
    "dF_dx = sp.diff(F, x)\n",
    "dF_dy = sp.diff(F, y)\n",
    "\n",
    "\n",
    "critical_points = sp.solve([dF_dx, dF_dy], (x, y))\n",
    "\n",
    "\n",
    "d2F_dx2 = sp.diff(dF_dx, x)\n",
    "d2F_dy2 = sp.diff(dF_dy, y)\n",
    "d2F_dxdy = sp.diff(dF_dx, y)\n",
    "\n",
    "\n",
    "H = sp.Matrix([[d2F_dx2, d2F_dxdy], [d2F_dxdy, d2F_dy2]])\n",
    "\n",
    "\n",
    "D = H.det()\n",
    "\n",
    "\n",
    "print(\"Fungsi F(x, y):\")\n",
    "display(F)\n",
    "\n",
    "print(\"Turunan pertama dF/dx dan dF/dy:\")\n",
    "display(dF_dx, dF_dy)\n",
    "\n",
    "print(\"Titik stasioner:\")\n",
    "display(critical_points)\n",
    "\n",
    "print(\"Turunan kedua:\")\n",
    "display(d2F_dx2, d2F_dy2, d2F_dxdy)\n",
    "\n",
    "print(\"Matriks Hessian:\")\n",
    "display(H)\n",
    "\n",
    "print(\"Determinant Hessian D:\")\n",
    "display(D)\n",
    "\n",
    "\n",
    "x_crit, y_crit = critical_points[x], critical_points[y]\n",
    "D_val = D.subs({x: x_crit, y: y_crit})\n",
    "d2F_dx2_val = d2F_dx2.subs({x: x_crit, y: y_crit})\n",
    "\n",
    "if D_val > 0:\n",
    "    if d2F_dx2_val > 0:\n",
    "        print(f\"Titik ({x_crit}, {y_crit}) adalah Minimum Lokal ✅\")\n",
    "    else:\n",
    "        print(f\"Titik ({x_crit}, {y_crit}) adalah Maksimum Lokal ❌\")\n",
    "elif D_val < 0:\n",
    "    print(f\"Titik ({x_crit}, {y_crit}) adalah Titik Sadel ❌\")\n",
    "else:\n",
    "    print(f\"Tidak dapat disimpulkan (D = 0) ❓\")"
   ]
  },
  {
   "cell_type": "code",
   "execution_count": 91,
   "metadata": {},
   "outputs": [
    {
     "name": "stdout",
     "output_type": "stream",
     "text": [
      "Exercise 169\n",
      "soal nomor 2 (c):\n",
      "Fungsi F(x, y):\n"
     ]
    },
    {
     "data": {
      "image/png": "[encoded data removed]",
      "text/latex": [
       "$\\displaystyle - 2 x^{2} - 2 x y + 2 x - y^{2} + 2 y + 2$"
      ],
      "text/plain": [
       "     2                  2          \n",
       "- 2⋅x  - 2⋅x⋅y + 2⋅x - y  + 2⋅y + 2"
      ]
     },
     "metadata": {},
     "output_type": "display_data"
    },
    {
     "name": "stdout",
     "output_type": "stream",
     "text": [
      "Turunan pertama dF/dx dan dF/dy:\n"
     ]
    },
    {
     "data": {
      "image/png": "[encoded data removed]",
      "text/latex": [
       "$\\displaystyle - 4 x - 2 y + 2$"
      ],
      "text/plain": [
       "-4⋅x - 2⋅y + 2"
      ]
     },
     "metadata": {},
     "output_type": "display_data"
    },
    {
     "data": {
      "image/png": "[encoded data removed]",
      "text/latex": [
       "$\\displaystyle - 2 x - 2 y + 2$"
      ],
      "text/plain": [
       "-2⋅x - 2⋅y + 2"
      ]
     },
     "metadata": {},
     "output_type": "display_data"
    },
    {
     "name": "stdout",
     "output_type": "stream",
     "text": [
      "Titik stasioner:\n"
     ]
    },
    {
     "data": {
      "image/png": "[encoded data removed]",
      "text/latex": [
       "$\\displaystyle \\left\\{ x : 0, \\  y : 1\\right\\}$"
      ],
      "text/plain": [
       "{x: 0, y: 1}"
      ]
     },
     "metadata": {},
     "output_type": "display_data"
    },
    {
     "name": "stdout",
     "output_type": "stream",
     "text": [
      "Turunan kedua:\n"
     ]
    },
    {
     "data": {
      "image/png": "[encoded data removed]",
      "text/latex": [
       "$\\displaystyle -4$"
      ],
      "text/plain": [
       "-4"
      ]
     },
     "metadata": {},
     "output_type": "display_data"
    },
    {
     "data": {
      "image/png": "[encoded data removed]",
      "text/latex": [
       "$\\displaystyle -2$"
      ],
      "text/plain": [
       "-2"
      ]
     },
     "metadata": {},
     "output_type": "display_data"
    },
    {
     "data": {
      "image/png": "[encoded data removed]",
      "text/latex": [
       "$\\displaystyle -2$"
      ],
      "text/plain": [
       "-2"
      ]
     },
     "metadata": {},
     "output_type": "display_data"
    },
    {
     "name": "stdout",
     "output_type": "stream",
     "text": [
      "Matriks Hessian:\n"
     ]
    },
    {
     "data": {
      "text/latex": [
       "$\\displaystyle \\left[\\begin{matrix}-4 & -2\\\\-2 & -2\\end{matrix}\\right]$"
      ],
      "text/plain": [
       "⎡-4  -2⎤\n",
       "⎢      ⎥\n",
       "⎣-2  -2⎦"
      ]
     },
     "metadata": {},
     "output_type": "display_data"
    },
    {
     "name": "stdout",
     "output_type": "stream",
     "text": [
      "Determinant Hessian D:\n"
     ]
    },
    {
     "data": {
      "image/png": "[encoded data removed]",
      "text/latex": [
       "$\\displaystyle 4$"
      ],
      "text/plain": [
       "4"
      ]
     },
     "metadata": {},
     "output_type": "display_data"
    },
    {
     "name": "stdout",
     "output_type": "stream",
     "text": [
      "Titik (0, 1) adalah Maksimum Lokal ✅\n"
     ]
    }
   ],
   "source": [
    "import sympy as sp\n",
    "from IPython.display import display\n",
    "print(\"Exercise 169\")\n",
    "print(\"soal nomor 2 (c):\")\n",
    "\n",
    "x, y = sp.symbols('x y')\n",
    "\n",
    "\n",
    "F = 2*x + 2*y - 2*x*y - 2*x**2 - y**2 + 2\n",
    "\n",
    "\n",
    "dF_dx = sp.diff(F, x)\n",
    "dF_dy = sp.diff(F, y)\n",
    "\n",
    "\n",
    "critical_points = sp.solve([dF_dx, dF_dy], (x, y))\n",
    "\n",
    "\n",
    "d2F_dx2 = sp.diff(dF_dx, x)\n",
    "d2F_dy2 = sp.diff(dF_dy, y)\n",
    "d2F_dxdy = sp.diff(dF_dx, y)\n",
    "\n",
    "\n",
    "H = sp.Matrix([[d2F_dx2, d2F_dxdy], [d2F_dxdy, d2F_dy2]])\n",
    "\n",
    "\n",
    "D = H.det()\n",
    "\n",
    "\n",
    "print(\"Fungsi F(x, y):\")\n",
    "display(F)\n",
    "\n",
    "print(\"Turunan pertama dF/dx dan dF/dy:\")\n",
    "display(dF_dx, dF_dy)\n",
    "\n",
    "print(\"Titik stasioner:\")\n",
    "display(critical_points)\n",
    "\n",
    "print(\"Turunan kedua:\")\n",
    "display(d2F_dx2, d2F_dy2, d2F_dxdy)\n",
    "\n",
    "print(\"Matriks Hessian:\")\n",
    "display(H)\n",
    "\n",
    "print(\"Determinant Hessian D:\")\n",
    "display(D)\n",
    "\n",
    "\n",
    "x_crit, y_crit = critical_points[x], critical_points[y]\n",
    "D_val = D.subs({x: x_crit, y: y_crit})\n",
    "d2F_dx2_val = d2F_dx2.subs({x: x_crit, y: y_crit})\n",
    "\n",
    "if D_val > 0:\n",
    "    if d2F_dx2_val > 0:\n",
    "        print(f\"Titik ({x_crit}, {y_crit}) adalah Minimum Lokal ✅\")\n",
    "    else:\n",
    "        print(f\"Titik ({x_crit}, {y_crit}) adalah Maksimum Lokal ✅\")\n",
    "elif D_val < 0:\n",
    "    print(f\"Titik ({x_crit}, {y_crit}) adalah Titik Sadel ❌\")\n",
    "else:\n",
    "    print(f\"Tidak dapat disimpulkan (D = 0) ❓\")"
   ]
  },
  {
   "cell_type": "code",
   "execution_count": 121,
   "metadata": {},
   "outputs": [
    {
     "name": "stdout",
     "output_type": "stream",
     "text": [
      "Exercise 169\n",
      "soal nomor 3:\n",
      "Fungsi F(x, y):\n"
     ]
    },
    {
     "data": {
      "image/png": "[encoded data removed]",
      "text/latex": [
       "$\\displaystyle x^{3} - 6 x^{2} - 8 y^{2}$"
      ],
      "text/plain": [
       " 3      2      2\n",
       "x  - 6⋅x  - 8⋅y "
      ]
     },
     "metadata": {},
     "output_type": "display_data"
    },
    {
     "name": "stdout",
     "output_type": "stream",
     "text": [
      "Turunan pertama dF/dx dan dF/dy:\n"
     ]
    },
    {
     "data": {
      "image/png": "[encoded data removed]",
      "text/latex": [
       "$\\displaystyle 3 x^{2} - 12 x$"
      ],
      "text/plain": [
       "   2       \n",
       "3⋅x  - 12⋅x"
      ]
     },
     "metadata": {},
     "output_type": "display_data"
    },
    {
     "data": {
      "image/png": "[encoded data removed]",
      "text/latex": [
       "$\\displaystyle - 16 y$"
      ],
      "text/plain": [
       "-16⋅y"
      ]
     },
     "metadata": {},
     "output_type": "display_data"
    },
    {
     "name": "stdout",
     "output_type": "stream",
     "text": [
      "Titik stasioner:\n"
     ]
    },
    {
     "data": {
      "image/png": "[encoded data removed]",
      "text/latex": [
       "$\\displaystyle \\left[ \\left( 0, \\  0\\right), \\  \\left( 4, \\  0\\right)\\right]$"
      ],
      "text/plain": [
       "[(0, 0), (4, 0)]"
      ]
     },
     "metadata": {},
     "output_type": "display_data"
    },
    {
     "name": "stdout",
     "output_type": "stream",
     "text": [
      "Turunan kedua:\n"
     ]
    },
    {
     "data": {
      "image/png": "[encoded data removed]",
      "text/latex": [
       "$\\displaystyle 6 x - 12$"
      ],
      "text/plain": [
       "6⋅x - 12"
      ]
     },
     "metadata": {},
     "output_type": "display_data"
    },
    {
     "data": {
      "image/png": "[encoded data removed]",
      "text/latex": [
       "$\\displaystyle -16$"
      ],
      "text/plain": [
       "-16"
      ]
     },
     "metadata": {},
     "output_type": "display_data"
    },
    {
     "data": {
      "image/png": "[encoded data removed]",
      "text/latex": [
       "$\\displaystyle 0$"
      ],
      "text/plain": [
       "0"
      ]
     },
     "metadata": {},
     "output_type": "display_data"
    },
    {
     "name": "stdout",
     "output_type": "stream",
     "text": [
      "Matriks Hessian:\n"
     ]
    },
    {
     "data": {
      "text/latex": [
       "$\\displaystyle \\left[\\begin{matrix}6 x - 12 & 0\\\\0 & -16\\end{matrix}\\right]$"
      ],
      "text/plain": [
       "⎡6⋅x - 12   0 ⎤\n",
       "⎢             ⎥\n",
       "⎣   0      -16⎦"
      ]
     },
     "metadata": {},
     "output_type": "display_data"
    },
    {
     "name": "stdout",
     "output_type": "stream",
     "text": [
      "Determinant Hessian D:\n"
     ]
    },
    {
     "data": {
      "image/png": "[encoded data removed]",
      "text/latex": [
       "$\\displaystyle 192 - 96 x$"
      ],
      "text/plain": [
       "192 - 96⋅x"
      ]
     },
     "metadata": {},
     "output_type": "display_data"
    },
    {
     "name": "stdout",
     "output_type": "stream",
     "text": [
      "Titik (0, 0) adalah Maksimum Lokal ✅\n",
      "Titik (4, 0) adalah Titik Sadel ❌\n"
     ]
    }
   ],
   "source": [
    "import sympy as sp\n",
    "from IPython.display import display\n",
    "print(\"Exercise 169\")\n",
    "print(\"soal nomor 3:\")\n",
    "\n",
    "x, y = sp.symbols('x y')\n",
    "\n",
    "\n",
    "F = x**3 - 6*x**2 - 8*y**2\n",
    "\n",
    "\n",
    "dF_dx = sp.diff(F, x)\n",
    "dF_dy = sp.diff(F, y)\n",
    "\n",
    "\n",
    "critical_points = sp.solve([dF_dx, dF_dy], (x, y))\n",
    "\n",
    "\n",
    "d2F_dx2 = sp.diff(dF_dx, x)\n",
    "d2F_dy2 = sp.diff(dF_dy, y)\n",
    "d2F_dxdy = sp.diff(dF_dx, y)\n",
    "\n",
    "\n",
    "H = sp.Matrix([[d2F_dx2, d2F_dxdy], [d2F_dxdy, d2F_dy2]])\n",
    "\n",
    "\n",
    "D = H.det()\n",
    "\n",
    "\n",
    "print(\"Fungsi F(x, y):\")\n",
    "display(F)\n",
    "\n",
    "print(\"Turunan pertama dF/dx dan dF/dy:\")\n",
    "display(dF_dx, dF_dy)\n",
    "\n",
    "print(\"Titik stasioner:\")\n",
    "display(critical_points)\n",
    "\n",
    "print(\"Turunan kedua:\")\n",
    "display(d2F_dx2, d2F_dy2, d2F_dxdy)\n",
    "\n",
    "print(\"Matriks Hessian:\")\n",
    "display(H)\n",
    "\n",
    "print(\"Determinant Hessian D:\")\n",
    "display(D)\n",
    "\n",
    "\n",
    "for point in critical_points:\n",
    "    x_crit, y_crit = point\n",
    "    D_val = D.subs({x: x_crit, y: y_crit})\n",
    "    d2F_dx2_val = d2F_dx2.subs({x: x_crit, y: y_crit})\n",
    "\n",
    "    if D_val > 0:\n",
    "        if d2F_dx2_val > 0:\n",
    "            print(f\"Titik {point} adalah Minimum Lokal ✅\")\n",
    "        else:\n",
    "            print(f\"Titik {point} adalah Maksimum Lokal ✅\")\n",
    "    elif D_val < 0:\n",
    "        print(f\"Titik {point} adalah Titik Sadel ❌\")\n",
    "    else:\n",
    "        print(f\"Tidak dapat disimpulkan (D = 0) ❓\")"
   ]
  },
  {
   "cell_type": "code",
   "execution_count": null,
   "metadata": {},
   "outputs": [
    {
     "name": "stdout",
     "output_type": "stream",
     "text": [
      "Exercise 169\n",
      "soal nomor 5:\n",
      "Fungsi F(x, y):\n"
     ]
    },
    {
     "data": {
      "image/png": "[encoded data removed]",
      "text/latex": [
       "$\\displaystyle x^{3} - x y + y^{3}$"
      ],
      "text/plain": [
       " 3          3\n",
       "x  - x⋅y + y "
      ]
     },
     "metadata": {},
     "output_type": "display_data"
    },
    {
     "name": "stdout",
     "output_type": "stream",
     "text": [
      "Turunan pertama dF/dx dan dF/dy:\n"
     ]
    },
    {
     "data": {
      "image/png": "[encoded data removed]",
      "text/latex": [
       "$\\displaystyle 3 x^{2} - y$"
      ],
      "text/plain": [
       "   2    \n",
       "3⋅x  - y"
      ]
     },
     "metadata": {},
     "output_type": "display_data"
    },
    {
     "data": {
      "image/png": "[encoded data removed]",
      "text/latex": [
       "$\\displaystyle - x + 3 y^{2}$"
      ],
      "text/plain": [
       "        2\n",
       "-x + 3⋅y "
      ]
     },
     "metadata": {},
     "output_type": "display_data"
    },
    {
     "name": "stdout",
     "output_type": "stream",
     "text": [
      "Titik stasioner:\n"
     ]
    },
    {
     "data": {
      "image/png": "[encoded data removed]",
      "text/latex": [
       "$\\displaystyle \\left[ \\left( 0, \\  0\\right), \\  \\left( \\frac{1}{3}, \\  \\frac{1}{3}\\right), \\  \\left( 3 \\left(- \\frac{1}{6} - \\frac{\\sqrt{3} i}{6}\\right)^{2}, \\  - \\frac{1}{6} - \\frac{\\sqrt{3} i}{6}\\right), \\  \\left( 3 \\left(- \\frac{1}{6} + \\frac{\\sqrt{3} i}{6}\\right)^{2}, \\  - \\frac{1}{6} + \\frac{\\sqrt{3} i}{6}\\right)\\right]$"
      ],
      "text/plain": [
       "⎡                    ⎛              2            ⎞  ⎛              2          \n",
       "⎢                    ⎜  ⎛  1   √3⋅ⅈ⎞     1   √3⋅ⅈ⎟  ⎜  ⎛  1   √3⋅ⅈ⎞     1   √3\n",
       "⎢(0, 0), (1/3, 1/3), ⎜3⋅⎜- ─ - ────⎟ , - ─ - ────⎟, ⎜3⋅⎜- ─ + ────⎟ , - ─ + ──\n",
       "⎣                    ⎝  ⎝  6    6  ⎠     6    6  ⎠  ⎝  ⎝  6    6  ⎠     6    6\n",
       "\n",
       "  ⎞⎤\n",
       "⋅ⅈ⎟⎥\n",
       "──⎟⎥\n",
       "  ⎠⎦"
      ]
     },
     "metadata": {},
     "output_type": "display_data"
    },
    {
     "name": "stdout",
     "output_type": "stream",
     "text": [
      "Turunan kedua:\n"
     ]
    },
    {
     "data": {
      "image/png": "[encoded data removed]",
      "text/latex": [
       "$\\displaystyle 6 x$"
      ],
      "text/plain": [
       "6⋅x"
      ]
     },
     "metadata": {},
     "output_type": "display_data"
    },
    {
     "data": {
      "image/png": "[encoded data removed]",
      "text/latex": [
       "$\\displaystyle 6 y$"
      ],
      "text/plain": [
       "6⋅y"
      ]
     },
     "metadata": {},
     "output_type": "display_data"
    },
    {
     "data": {
      "image/png": "[encoded data removed]",
      "text/latex": [
       "$\\displaystyle -1$"
      ],
      "text/plain": [
       "-1"
      ]
     },
     "metadata": {},
     "output_type": "display_data"
    },
    {
     "name": "stdout",
     "output_type": "stream",
     "text": [
      "Matriks Hessian:\n"
     ]
    },
    {
     "data": {
      "text/latex": [
       "$\\displaystyle \\left[\\begin{matrix}6 x & -1\\\\-1 & 6 y\\end{matrix}\\right]$"
      ],
      "text/plain": [
       "⎡6⋅x  -1 ⎤\n",
       "⎢        ⎥\n",
       "⎣-1   6⋅y⎦"
      ]
     },
     "metadata": {},
     "output_type": "display_data"
    },
    {
     "name": "stdout",
     "output_type": "stream",
     "text": [
      "Determinant Hessian D:\n"
     ]
    },
    {
     "data": {
      "image/png": "[encoded data removed]",
      "text/latex": [
       "$\\displaystyle 36 x y - 1$"
      ],
      "text/plain": [
       "36⋅x⋅y - 1"
      ]
     },
     "metadata": {},
     "output_type": "display_data"
    },
    {
     "name": "stdout",
     "output_type": "stream",
     "text": [
      "\n",
      "Evaluasi di titik (0, 0):\n",
      "D = -1\n",
      "Titik (0, 0) adalah Titik Sadel ❌\n",
      "\n",
      "Evaluasi di titik (1/3, 1/3):\n",
      "D = 3\n",
      "Titik (1/3, 1/3) adalah Minimum Lokal ✅\n",
      "\n",
      "Evaluasi di titik (3*(-1/6 - sqrt(3)*I/6)**2, -1/6 - sqrt(3)*I/6):\n",
      "D = 3\n",
      "Titik (3*(-1/6 - sqrt(3)*I/6)**2, -1/6 - sqrt(3)*I/6) adalah Maksimum Lokal ✅\n",
      "\n",
      "Evaluasi di titik (3*(-1/6 + sqrt(3)*I/6)**2, -1/6 + sqrt(3)*I/6):\n",
      "D = 3\n",
      "Titik (3*(-1/6 + sqrt(3)*I/6)**2, -1/6 + sqrt(3)*I/6) adalah Maksimum Lokal ✅\n"
     ]
    }
   ],
   "source": [
    "import sympy as sp\n",
    "from IPython.display import display\n",
    "print(\"Exercise 169\")\n",
    "print(\"soal nomor 5:\")\n",
    "\n",
    "x, y = sp.symbols('x y')\n",
    "\n",
    "\n",
    "z = x**3 - x*y + y**3\n",
    "\n",
    "\n",
    "fx = sp.diff(z, x)\n",
    "fy = sp.diff(z, y)\n",
    "\n",
    "\n",
    "critical_points = sp.solve([fx, fy], (x, y))\n",
    "\n",
    "\n",
    "fxx = sp.diff(fx, x)\n",
    "fyy = sp.diff(fy, y)\n",
    "fxy = sp.diff(fx, y)\n",
    "\n",
    "\n",
    "H = sp.Matrix([[fxx, fxy], [fxy, fyy]])\n",
    "D = H.det()\n",
    "\n",
    "print(\"Fungsi F(x, y):\")\n",
    "display(z)\n",
    "\n",
    "print(\"Turunan pertama dF/dx dan dF/dy:\")\n",
    "display(fx, fy)\n",
    "\n",
    "print(\"Titik stasioner:\")\n",
    "display(critical_points)\n",
    "\n",
    "print(\"Turunan kedua:\")\n",
    "display(fxx, fyy, fxy)\n",
    "\n",
    "print(\"Matriks Hessian:\")\n",
    "display(H)\n",
    "\n",
    "print(\"Determinant Hessian D:\")\n",
    "display(D)\n",
    "\n",
    "for point in critical_points:\n",
    "    subs_dict = {x: point[0], y: point[1]}\n",
    "    D_val = D.subs(subs_dict).expand().as_real_imag()[0]\n",
    "    fxx_val = fxx.subs(subs_dict).expand().as_real_imag()[0]\n",
    "    \n",
    "    print(f\"\\nEvaluasi di titik {point}:\")\n",
    "    print(\"D =\", D_val)\n",
    "    \n",
    "    if D_val > 0:\n",
    "        if fxx_val > 0:\n",
    "            print(f\"Titik {point} adalah Minimum Lokal ✅\")\n",
    "        else:\n",
    "            print(f\"Titik {point} adalah Maksimum Lokal ✅\")\n",
    "    elif D_val < 0:\n",
    "        print(f\"Titik {point} adalah Titik Sadel ❌\")\n",
    "    else:\n",
    "        print(f\"Tidak dapat disimpulkan (D = 0) ❓\")\n",
    "        print(\"D =\", D_val)"
   ]
  }
 ],
 "metadata": {
  "kernelspec": {
   "display_name": "Python 3",
   "language": "python",
   "name": "python3"
  },
  "language_info": {
   "codemirror_mode": {
    "name": "ipython",
    "version": 3
   },
   "file_extension": ".py",
   "mimetype": "text/x-python",
   "name": "python",
   "nbconvert_exporter": "python",
   "pygments_lexer": "ipython3",
   "version": "3.10.4"
  }
 },
 "nbformat": 4,
 "nbformat_minor": 2
}
